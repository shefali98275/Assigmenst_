{
 "cells": [
  {
   "cell_type": "markdown",
   "id": "under-words",
   "metadata": {},
   "source": [
    "# 1. How do you distinguish between shutil.copy() and shutil.copytree()?"
   ]
  },
  {
   "cell_type": "markdown",
   "id": "marine-marriage",
   "metadata": {},
   "source": [
    "shutil.copy() - this function is use to copy the content of file from source to destination "
   ]
  },
  {
   "cell_type": "code",
   "execution_count": 1,
   "id": "crazy-exhaust",
   "metadata": {},
   "outputs": [],
   "source": [
    "source = \"D:\\linux_command\\linux_command.txt\"\n",
    "destination = r\"D:\\transfer_file_shutil\""
   ]
  },
  {
   "cell_type": "markdown",
   "id": "sublime-reception",
   "metadata": {},
   "source": [
    "# here we copy the linux_command.txt into destination, by using same name new file will be copied in destination"
   ]
  },
  {
   "cell_type": "code",
   "execution_count": 2,
   "id": "centered-vinyl",
   "metadata": {},
   "outputs": [],
   "source": [
    "source = \"D:\\linux_command\\linux_command.txt\"\n",
    "destination = r\"D:\\transfer_file_shutil\\text.txt\""
   ]
  },
  {
   "cell_type": "markdown",
   "id": "advanced-venue",
   "metadata": {},
   "source": [
    "here we copy the linux_command.txt into destination,but the content of linux_command.txt will be copied into destination file"
   ]
  },
  {
   "cell_type": "markdown",
   "id": "fabulous-projection",
   "metadata": {},
   "source": [
    "# 2. What function is used to rename files??"
   ]
  },
  {
   "cell_type": "code",
   "execution_count": 3,
   "id": "operational-pastor",
   "metadata": {},
   "outputs": [],
   "source": [
    "import os"
   ]
  },
  {
   "cell_type": "code",
   "execution_count": 7,
   "id": "driving-switzerland",
   "metadata": {},
   "outputs": [
    {
     "name": "stdout",
     "output_type": "stream",
     "text": [
      "Before Renaming: ['linux_command.txt']\n",
      "After Renaming: ['AWS_command.txt']\n"
     ]
    }
   ],
   "source": [
    "path = r\"D:\\transfer_file_shutil/\"\n",
    "print(f\"Before Renaming: {os.listdir(path)}\")\n",
    "os.rename(path+'linux_command.txt', path+'AWS_command.txt')\n",
    "print(f\"After Renaming: {os.listdir(path)}\")"
   ]
  },
  {
   "cell_type": "markdown",
   "id": "successful-assault",
   "metadata": {},
   "source": [
    "# 3. What is the difference between the delete functions in the send2trash and shutil modules?"
   ]
  },
  {
   "cell_type": "markdown",
   "id": "union-division",
   "metadata": {},
   "source": [
    "if we use send2trash module to delete a file it will not delete that file permanently, it will send it to recycle bin\n",
    "instead of permanently deleting the file"
   ]
  },
  {
   "cell_type": "markdown",
   "id": "vietnamese-table",
   "metadata": {},
   "source": [
    "if we use shutil module can delete a single file along with its entire directory tree permanently ."
   ]
  },
  {
   "cell_type": "markdown",
   "id": "heated-depth",
   "metadata": {},
   "source": [
    "# 4.ZipFile objects have a close() method just like File objects’ close() method. What ZipFile method is equivalent to File objects’ open() method?"
   ]
  },
  {
   "cell_type": "markdown",
   "id": "secondary-confidentiality",
   "metadata": {},
   "source": [
    "Yes both are equivalent becuase first we need to pass filename of zip file or normal file then need to pass mode\n",
    "\n",
    "according to them we can perform operation"
   ]
  },
  {
   "cell_type": "markdown",
   "id": "minus-universal",
   "metadata": {},
   "source": [
    "# 5. Create a programme that searches a folder tree for files with a certain file extension (such as .pdf or .jpg). Copy these files from whatever location they are in to a new folder."
   ]
  },
  {
   "cell_type": "code",
   "execution_count": 9,
   "id": "considered-hydrogen",
   "metadata": {},
   "outputs": [
    {
     "name": "stdout",
     "output_type": "stream",
     "text": [
      "Looking in C:\\Users\\techs\\Pictures for files with extensions of .mp4, .pdf, .jpg\n",
      "Coping C:\\Users\\techs\\Pictures\\74b17f56-1346-49b7-a65a-859a9c41c046.jpg to D:\\transfer_file_shutil\n",
      "Coping C:\\Users\\techs\\Pictures\\a3bbc18e-6682-473f-8741-66851b259ea8.jpg to D:\\transfer_file_shutil\n",
      "Coping C:\\Users\\techs\\Pictures\\aebab767-c88b-4e1d-8f17-d4991876f1d1.jpg to D:\\transfer_file_shutil\n",
      "Coping C:\\Users\\techs\\Pictures\\bee8e190-4734-461b-b1d4-4f36f96224d5.jpg to D:\\transfer_file_shutil\n",
      "Coping C:\\Users\\techs\\Pictures\\CUETApplicationForm-223511250375 (1).pdf to D:\\transfer_file_shutil\n",
      "Coping C:\\Users\\techs\\Pictures\\CUETApplicationForm-223511250375.pdf to D:\\transfer_file_shutil\n",
      "Coping C:\\Users\\techs\\Pictures\\merry-christmas-gifts-from-santa-claus-with-love-1920x1200.jpg to D:\\transfer_file_shutil\n",
      "Coping C:\\Users\\techs\\Pictures\\R.jpg to D:\\transfer_file_shutil\n",
      "Coping C:\\Users\\techs\\Pictures\\Camera Roll\\WIN_20210706_21_12_14_Pro.mp4 to D:\\transfer_file_shutil\n",
      "Coping C:\\Users\\techs\\Pictures\\Camera Roll\\WIN_20220831_21_35_51_Pro.mp4 to D:\\transfer_file_shutil\n"
     ]
    }
   ],
   "source": [
    "import os, shutil\n",
    "\n",
    "def selectiveCopy(source, extensions, destFolder):\n",
    "    folder = os.path.abspath(source)\n",
    "    destFolder = os.path.abspath(destFolder)\n",
    "    print('Looking in', source, 'for files with extensions of', ', '.join(extensions))\n",
    "    for foldername, subfolders, filenames in os.walk(source):\n",
    "        for filename in filenames:\n",
    "            name, extension = os.path.splitext(filename)\n",
    "            if extension in extensions:\n",
    "                fileAbsPath = foldername + os.path.sep + filename\n",
    "                print('Coping', fileAbsPath, 'to', destFolder)\n",
    "                shutil.copy(fileAbsPath, destFolder)\n",
    "\n",
    "extensions = ['.mp4', '.pdf','.jpg']\n",
    "source = r\"C:\\Users\\techs\\Pictures\"\n",
    "destFolder = r\"D:\\transfer_file_shutil\"\n",
    "selectiveCopy(source, extensions, destFolder)"
   ]
  },
  {
   "cell_type": "code",
   "execution_count": null,
   "id": "third-matthew",
   "metadata": {},
   "outputs": [],
   "source": []
  },
  {
   "cell_type": "code",
   "execution_count": null,
   "id": "sonic-bubble",
   "metadata": {},
   "outputs": [],
   "source": []
  },
  {
   "cell_type": "code",
   "execution_count": null,
   "id": "stone-discipline",
   "metadata": {},
   "outputs": [],
   "source": []
  },
  {
   "cell_type": "code",
   "execution_count": null,
   "id": "billion-finland",
   "metadata": {},
   "outputs": [],
   "source": []
  }
 ],
 "metadata": {
  "kernelspec": {
   "display_name": "Python 3",
   "language": "python",
   "name": "python3"
  },
  "language_info": {
   "codemirror_mode": {
    "name": "ipython",
    "version": 3
   },
   "file_extension": ".py",
   "mimetype": "text/x-python",
   "name": "python",
   "nbconvert_exporter": "python",
   "pygments_lexer": "ipython3",
   "version": "3.8.6"
  }
 },
 "nbformat": 4,
 "nbformat_minor": 5
}
