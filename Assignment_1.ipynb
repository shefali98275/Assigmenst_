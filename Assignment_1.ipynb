{
 "cells": [
  {
   "cell_type": "markdown",
   "id": "communist-scott",
   "metadata": {},
   "source": [
    "# 1. In the below elements which of them are values or an expression? eg:- values can be integer or string and expressions will be mathematical operators.\n",
    "*\n",
    "'hello'\n",
    "-87.8\n",
    "-\n",
    "/\n",
    "+\n",
    "6"
   ]
  },
  {
   "cell_type": "markdown",
   "id": "careful-surgery",
   "metadata": {},
   "source": [
    "\n",
    "expression = * , - ,/ +  \n",
    "values = \"hello\",-87.8,6"
   ]
  },
  {
   "cell_type": "markdown",
   "id": "developmental-palmer",
   "metadata": {},
   "source": [
    "# 2. What is the difference between string and variable?"
   ]
  },
  {
   "cell_type": "markdown",
   "id": "thick-modeling",
   "metadata": {},
   "source": [
    "string = its a data type in python or in other words we can say Any sequence of characters enclosed by single quotes or double quotes is considered as a String.\n",
    "\n",
    "variable = its container that stores values and we don't need to declare variable in python because its created when we initialize the value to the variable\n",
    "generally its a name given to memory location"
   ]
  },
  {
   "cell_type": "markdown",
   "id": "extended-talent",
   "metadata": {},
   "source": [
    "# 3. Describe three different data types."
   ]
  },
  {
   "cell_type": "markdown",
   "id": "wrapped-gilbert",
   "metadata": {},
   "source": [
    "string -> its a data type in python or in other words we can say Any sequence of characters enclosed by single quotes or double quotes is considered as a String.\n",
    "\n",
    "float -> We can use float data type to represent floating point values (decimal values)\n",
    "int -> We can use int data type to represent whole numbers (integral values)\n",
    "\n",
    "boolean -> We can use this data type to represent boolean values.\n",
    "The only allowed values for this data type are:\n",
    "True and Fals"
   ]
  },
  {
   "cell_type": "markdown",
   "id": "senior-island",
   "metadata": {},
   "source": [
    "# 4. What is an expression made up of? What do all expressions do?"
   ]
  },
  {
   "cell_type": "markdown",
   "id": "sixth-profession",
   "metadata": {},
   "source": [
    "An expression is a combination of operators, constants and variables.\n",
    "it perform certain operation to produce a value like arthimetic operation , relational operation ,Logical operation\n",
    "\n",
    "eg : x + y , x > y , x+y+z , x-y , x > y && x == 10\n"
   ]
  },
  {
   "cell_type": "markdown",
   "id": "partial-springfield",
   "metadata": {},
   "source": [
    "# 5. This assignment statements, like spam = 10. What is the difference between an expression and a statement?"
   ]
  },
  {
   "cell_type": "markdown",
   "id": "curious-store",
   "metadata": {},
   "source": [
    "statement -> A statement is an instruction that a Python interpreter can execute. So, in simple words, we can say anything written in Python is a statement\n",
    "\n",
    "expressions -> An expression is a combination of operators, constants and variables. it perform certain operation to produce a value like arthimetic operation , relational operation ,Logical operation\n"
   ]
  },
  {
   "cell_type": "markdown",
   "id": "aware-satin",
   "metadata": {},
   "source": [
    "# 6. After running the following code, what does the variable bacon contain?\n",
    "        bacon = 22\n",
    "        bacon + 1"
   ]
  },
  {
   "cell_type": "code",
   "execution_count": 2,
   "id": "turned-motor",
   "metadata": {},
   "outputs": [
    {
     "data": {
      "text/plain": [
       "22"
      ]
     },
     "execution_count": 2,
     "metadata": {},
     "output_type": "execute_result"
    }
   ],
   "source": [
    "bacon = 22\n",
    "bacon + 1\n",
    "bacon"
   ]
  },
  {
   "cell_type": "markdown",
   "id": "obvious-maldives",
   "metadata": {},
   "source": [
    "# 7. What should the values of the following two terms be?"
   ]
  },
  {
   "cell_type": "code",
   "execution_count": 3,
   "id": "annoying-large",
   "metadata": {},
   "outputs": [
    {
     "data": {
      "text/plain": [
       "'spamspamspam'"
      ]
     },
     "execution_count": 3,
     "metadata": {},
     "output_type": "execute_result"
    }
   ],
   "source": [
    "\"spam\"+\"spamspam\"\n"
   ]
  },
  {
   "cell_type": "code",
   "execution_count": 4,
   "id": "personalized-depth",
   "metadata": {},
   "outputs": [
    {
     "data": {
      "text/plain": [
       "'spamspamspam'"
      ]
     },
     "execution_count": 4,
     "metadata": {},
     "output_type": "execute_result"
    }
   ],
   "source": [
    "\"spam\"* 3"
   ]
  },
  {
   "cell_type": "markdown",
   "id": "trained-bonus",
   "metadata": {},
   "source": [
    "# 8. Why is eggs a valid variable name while 100 is invalid?"
   ]
  },
  {
   "cell_type": "markdown",
   "id": "married-softball",
   "metadata": {},
   "source": [
    "in any programming language , there some protocols we need to follow same thing need to follow in variable name \n",
    "it means variable name should not start with number and varible name should not be only numbers"
   ]
  },
  {
   "cell_type": "markdown",
   "id": "characteristic-firmware",
   "metadata": {},
   "source": [
    "# 9. What three functions can be used to get the integer, floating-point number, or string version of a value?"
   ]
  },
  {
   "cell_type": "markdown",
   "id": "determined-luxembourg",
   "metadata": {},
   "source": [
    "float() - The float() function converts the specified value into a floating point number.\n",
    "\n",
    "int() - Python int() function returns an integer from a given object or converts a number in a given base to a decimal.\n",
    "\n",
    "str() - The str() function converts the specified value into a string."
   ]
  },
  {
   "cell_type": "markdown",
   "id": "formed-confusion",
   "metadata": {},
   "source": [
    "# 10. Why does this expression cause an error? How can you fix it?"
   ]
  },
  {
   "cell_type": "markdown",
   "id": "marine-memorial",
   "metadata": {},
   "source": [
    "we can only concatenate str to str\n",
    "not str to int for\n",
    "first we need to convert int value in string"
   ]
  },
  {
   "cell_type": "code",
   "execution_count": 5,
   "id": "advanced-migration",
   "metadata": {},
   "outputs": [
    {
     "ename": "TypeError",
     "evalue": "can only concatenate str (not \"int\") to str",
     "output_type": "error",
     "traceback": [
      "\u001b[1;31m---------------------------------------------------------------------------\u001b[0m",
      "\u001b[1;31mTypeError\u001b[0m                                 Traceback (most recent call last)",
      "\u001b[1;32m<ipython-input-5-d24137131a5c>\u001b[0m in \u001b[0;36m<module>\u001b[1;34m\u001b[0m\n\u001b[1;32m----> 1\u001b[1;33m \u001b[1;34m'I have eaten '\u001b[0m \u001b[1;33m+\u001b[0m \u001b[1;36m99\u001b[0m \u001b[1;33m+\u001b[0m \u001b[1;34m' burritos.'\u001b[0m\u001b[1;33m\u001b[0m\u001b[1;33m\u001b[0m\u001b[0m\n\u001b[0m",
      "\u001b[1;31mTypeError\u001b[0m: can only concatenate str (not \"int\") to str"
     ]
    }
   ],
   "source": [
    "'I have eaten ' + 99 + ' burritos.'"
   ]
  },
  {
   "cell_type": "code",
   "execution_count": 6,
   "id": "swedish-honolulu",
   "metadata": {},
   "outputs": [
    {
     "data": {
      "text/plain": [
       "'I have eaten 99 burritos.'"
      ]
     },
     "execution_count": 6,
     "metadata": {},
     "output_type": "execute_result"
    }
   ],
   "source": [
    "'I have eaten ' + str(99) + ' burritos.'"
   ]
  },
  {
   "cell_type": "code",
   "execution_count": null,
   "id": "according-thread",
   "metadata": {},
   "outputs": [],
   "source": []
  }
 ],
 "metadata": {
  "kernelspec": {
   "display_name": "Python 3",
   "language": "python",
   "name": "python3"
  },
  "language_info": {
   "codemirror_mode": {
    "name": "ipython",
    "version": 3
   },
   "file_extension": ".py",
   "mimetype": "text/x-python",
   "name": "python",
   "nbconvert_exporter": "python",
   "pygments_lexer": "ipython3",
   "version": "3.8.6"
  }
 },
 "nbformat": 4,
 "nbformat_minor": 5
}
