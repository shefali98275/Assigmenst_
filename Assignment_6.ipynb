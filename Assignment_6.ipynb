{
 "cells": [
  {
   "cell_type": "markdown",
   "id": "rolled-boutique",
   "metadata": {},
   "source": [
    "# 1. What are escape characters, and how do you use them?"
   ]
  },
  {
   "cell_type": "markdown",
   "id": "metropolitan-forge",
   "metadata": {},
   "source": [
    "Escape characters or sequences are illegal characters for Python and never get printed as part of the output. When backslash is used in Python programming, it allows the program to escape the next characters."
   ]
  },
  {
   "cell_type": "markdown",
   "id": "declared-atmosphere",
   "metadata": {},
   "source": [
    "1) \\n==>New Line\n",
    "\n",
    "2) \\t===>Horizontal tab\n",
    "\n",
    "3) \\r ==>Carriage Return\n",
    "\n",
    "4) \\b===>Back space\n",
    "\n",
    "5) \\f===>Form Feed\n",
    "\n",
    "6) \\v==>Vertical tab\n",
    "\n",
    "7) \\'===>Single quote\n",
    "\n",
    "8) \\\"===>Double quote\n",
    "\n",
    "9) \\\\===>back slash symbol"
   ]
  },
  {
   "cell_type": "markdown",
   "id": "labeled-advocacy",
   "metadata": {},
   "source": [
    "# 2. What do the escape characters n and t stand for?"
   ]
  },
  {
   "cell_type": "markdown",
   "id": "casual-notification",
   "metadata": {},
   "source": [
    "\\n==>New Line\n",
    "\n",
    "\\t===>Horizontal tab"
   ]
  },
  {
   "cell_type": "code",
   "execution_count": 42,
   "id": "painful-survey",
   "metadata": {},
   "outputs": [],
   "source": [
    "s='durga\\tsoftware'"
   ]
  },
  {
   "cell_type": "code",
   "execution_count": 43,
   "id": "future-injury",
   "metadata": {},
   "outputs": [
    {
     "name": "stdout",
     "output_type": "stream",
     "text": [
      "durga\tsoftware\n"
     ]
    }
   ],
   "source": [
    "print(s)"
   ]
  },
  {
   "cell_type": "code",
   "execution_count": 40,
   "id": "initial-posting",
   "metadata": {},
   "outputs": [],
   "source": [
    "s='durga\\nsoftware'"
   ]
  },
  {
   "cell_type": "code",
   "execution_count": 41,
   "id": "private-winning",
   "metadata": {},
   "outputs": [
    {
     "name": "stdout",
     "output_type": "stream",
     "text": [
      "durga\n",
      "software\n"
     ]
    }
   ],
   "source": [
    "print(s)"
   ]
  },
  {
   "cell_type": "markdown",
   "id": "excellent-disclaimer",
   "metadata": {},
   "source": [
    "# 3. What is the way to include backslash characters in a string?"
   ]
  },
  {
   "cell_type": "code",
   "execution_count": 29,
   "id": "conditional-denial",
   "metadata": {},
   "outputs": [
    {
     "name": "stdout",
     "output_type": "stream",
     "text": [
      "\"Python's awesome\" She said\n"
     ]
    }
   ],
   "source": [
    "s = '\"Python\\'s awesome\" She said'\n",
    "print(s)"
   ]
  },
  {
   "cell_type": "markdown",
   "id": "seasonal-warning",
   "metadata": {},
   "source": [
    "the backslash (\\) escape other special characters. For example, if you have a string that has a single quote inside a single-quoted string like the following string, you need to use the backslash to escape the single quote character:"
   ]
  },
  {
   "cell_type": "markdown",
   "id": "unsigned-junior",
   "metadata": {},
   "source": [
    "# 4. The string &quot;Howl&#39;s Moving Castle&quot; is a correct value. Why isn&#39;t the single quote character in the word Howl&#39;s not escaped a problem?"
   ]
  },
  {
   "cell_type": "code",
   "execution_count": 14,
   "id": "verified-circulation",
   "metadata": {},
   "outputs": [
    {
     "data": {
      "text/plain": [
       "\"Howl's Moving Castle\""
      ]
     },
     "execution_count": 14,
     "metadata": {},
     "output_type": "execute_result"
    }
   ],
   "source": [
    "\"Howl's Moving Castle\""
   ]
  },
  {
   "cell_type": "markdown",
   "id": "geological-liberia",
   "metadata": {},
   "source": [
    "because we are enclosed string here by double qoutes"
   ]
  },
  {
   "cell_type": "markdown",
   "id": "graphic-title",
   "metadata": {},
   "source": [
    "# 5. How do you write a string of newlines if you don&#39;t want to use the n character?"
   ]
  },
  {
   "cell_type": "markdown",
   "id": "functional-dating",
   "metadata": {},
   "source": [
    "With triple-quoted string literals, you can use actual newlines instead of \\n"
   ]
  },
  {
   "cell_type": "markdown",
   "id": "spread-reserve",
   "metadata": {},
   "source": [
    "# 6. What are the values of the given expressions?"
   ]
  },
  {
   "cell_type": "code",
   "execution_count": 2,
   "id": "opened-creation",
   "metadata": {},
   "outputs": [
    {
     "data": {
      "text/plain": [
       "'e'"
      ]
     },
     "execution_count": 2,
     "metadata": {},
     "output_type": "execute_result"
    }
   ],
   "source": [
    "'Hello, world!'[1]"
   ]
  },
  {
   "cell_type": "code",
   "execution_count": 3,
   "id": "analyzed-optimum",
   "metadata": {},
   "outputs": [
    {
     "data": {
      "text/plain": [
       "'Hello'"
      ]
     },
     "execution_count": 3,
     "metadata": {},
     "output_type": "execute_result"
    }
   ],
   "source": [
    "'Hello, world!'[0:5]"
   ]
  },
  {
   "cell_type": "code",
   "execution_count": 4,
   "id": "cellular-strip",
   "metadata": {},
   "outputs": [
    {
     "data": {
      "text/plain": [
       "'Hello'"
      ]
     },
     "execution_count": 4,
     "metadata": {},
     "output_type": "execute_result"
    }
   ],
   "source": [
    "'Hello, world!'[:5]"
   ]
  },
  {
   "cell_type": "code",
   "execution_count": 5,
   "id": "blind-trunk",
   "metadata": {},
   "outputs": [
    {
     "data": {
      "text/plain": [
       "'lo, world!'"
      ]
     },
     "execution_count": 5,
     "metadata": {},
     "output_type": "execute_result"
    }
   ],
   "source": [
    "'Hello, world!'[3:]"
   ]
  },
  {
   "cell_type": "markdown",
   "id": "powered-leone",
   "metadata": {},
   "source": [
    "# 7. What are the values of the following expressions?\n",
    "&#39;Hello&#39;.upper()\n",
    "\n",
    "&#39;Hello&#39;.upper().isupper()\n",
    "\n",
    "&#39;Hello&#39;.upper().lower()"
   ]
  },
  {
   "cell_type": "code",
   "execution_count": 10,
   "id": "polar-editing",
   "metadata": {},
   "outputs": [
    {
     "data": {
      "text/plain": [
       "'HELLO'"
      ]
     },
     "execution_count": 10,
     "metadata": {},
     "output_type": "execute_result"
    }
   ],
   "source": [
    "'Hello'.upper()"
   ]
  },
  {
   "cell_type": "code",
   "execution_count": 7,
   "id": "front-shade",
   "metadata": {},
   "outputs": [
    {
     "data": {
      "text/plain": [
       "True"
      ]
     },
     "execution_count": 7,
     "metadata": {},
     "output_type": "execute_result"
    }
   ],
   "source": [
    "'Hello'.upper().isupper()"
   ]
  },
  {
   "cell_type": "code",
   "execution_count": 8,
   "id": "arranged-imperial",
   "metadata": {},
   "outputs": [
    {
     "data": {
      "text/plain": [
       "'hello'"
      ]
     },
     "execution_count": 8,
     "metadata": {},
     "output_type": "execute_result"
    }
   ],
   "source": [
    "'Hello'.upper().lower()"
   ]
  },
  {
   "cell_type": "markdown",
   "id": "after-supplement",
   "metadata": {},
   "source": [
    "# 8. What are the values of the following expressions?\n",
    "&#39;Remember, remember, the fifth of July.&#39;.split()\n",
    "\n",
    "&#39;-&#39;.join(&#39;There can only one.&#39;.split())"
   ]
  },
  {
   "cell_type": "code",
   "execution_count": 11,
   "id": "parental-porcelain",
   "metadata": {},
   "outputs": [
    {
     "data": {
      "text/plain": [
       "['Remember,', 'remember,', 'the', 'fifth', 'of', 'July.']"
      ]
     },
     "execution_count": 11,
     "metadata": {},
     "output_type": "execute_result"
    }
   ],
   "source": [
    "'Remember, remember, the fifth of July.'.split()"
   ]
  },
  {
   "cell_type": "code",
   "execution_count": 12,
   "id": "reliable-watch",
   "metadata": {},
   "outputs": [
    {
     "data": {
      "text/plain": [
       "'There-can-only-one.'"
      ]
     },
     "execution_count": 12,
     "metadata": {},
     "output_type": "execute_result"
    }
   ],
   "source": [
    "'-'.join('There can only one.'.split())"
   ]
  },
  {
   "cell_type": "markdown",
   "id": "recreational-trauma",
   "metadata": {},
   "source": [
    "# 9. What are the methods for right-justifying, left-justifying, and centering a string?"
   ]
  },
  {
   "cell_type": "code",
   "execution_count": 50,
   "id": "representative-webcam",
   "metadata": {},
   "outputs": [
    {
     "name": "stdout",
     "output_type": "stream",
     "text": [
      "The original string is : \n",
      " I love india \n",
      "\n",
      "The center aligned string is : \n",
      "              I love india               \n",
      "\n",
      "Center aligned string with fillchr: \n",
      "##############I love india##############\n"
     ]
    }
   ],
   "source": [
    "# the working of center()\n",
    "cstr = \"I love india\"\n",
    "  \n",
    "# Printing the original string\n",
    "print (\"The original string is : \\n\", cstr, \"\\n\")\n",
    "  \n",
    "# Printing the center aligned string \n",
    "print (\"The center aligned string is : \")\n",
    "print (cstr.center(40), \"\\n\")\n",
    "  \n",
    "# Printing the center aligned \n",
    "# string with fillchr\n",
    "print (\"Center aligned string with fillchr: \")\n",
    "print (cstr.center(40, '#'))"
   ]
  },
  {
   "cell_type": "code",
   "execution_count": 51,
   "id": "running-journal",
   "metadata": {},
   "outputs": [
    {
     "name": "stdout",
     "output_type": "stream",
     "text": [
      "The original string is : \n",
      " I love india \n",
      "\n",
      "The left aligned string is : \n",
      "I love india----------------------------\n"
     ]
    }
   ],
   "source": [
    "# Python3 code to demonstrate\n",
    "# the working of ljust()\n",
    "\n",
    "lstr = \"I love india\"\n",
    "\n",
    "# Printing the original string\n",
    "print (\"The original string is : \\n\", lstr, \"\\n\")\n",
    "\n",
    "# Printing the left aligned\n",
    "# string with \"-\" padding\n",
    "print (\"The left aligned string is : \")\n",
    "print (lstr.ljust(40, '-'))\n"
   ]
  },
  {
   "cell_type": "code",
   "execution_count": 52,
   "id": "dressed-syndrome",
   "metadata": {},
   "outputs": [
    {
     "name": "stdout",
     "output_type": "stream",
     "text": [
      "The original string is : \n",
      " I love india \n",
      "\n",
      "The right aligned string is : \n",
      "----------------------------I love india\n"
     ]
    }
   ],
   "source": [
    "# Python3 code to demonstrate\n",
    "# the working of rjust()\n",
    "\n",
    "rstr = \"I love india\"\n",
    "\n",
    "# Printing the original string\n",
    "print (\"The original string is : \\n\", rstr, \"\\n\")\n",
    "\n",
    "# Printing the right aligned string\n",
    "# with \"-\" padding\n",
    "print (\"The right aligned string is : \")\n",
    "print (rstr.rjust(40, '-'))\n"
   ]
  },
  {
   "cell_type": "markdown",
   "id": "vanilla-jurisdiction",
   "metadata": {},
   "source": [
    "# 10. What is the best way to remove whitespace characters from the start or end?"
   ]
  },
  {
   "cell_type": "markdown",
   "id": "temporal-doctor",
   "metadata": {},
   "source": [
    "We can you strip function to remove whitespace character from the start or end"
   ]
  },
  {
   "cell_type": "code",
   "execution_count": 13,
   "id": "criminal-visiting",
   "metadata": {},
   "outputs": [
    {
     "data": {
      "text/plain": [
       "'shefali'"
      ]
     },
     "execution_count": 13,
     "metadata": {},
     "output_type": "execute_result"
    }
   ],
   "source": [
    "\" shefali \".strip(\" \")"
   ]
  },
  {
   "cell_type": "code",
   "execution_count": null,
   "id": "suspended-praise",
   "metadata": {},
   "outputs": [],
   "source": []
  }
 ],
 "metadata": {
  "kernelspec": {
   "display_name": "Python 3",
   "language": "python",
   "name": "python3"
  },
  "language_info": {
   "codemirror_mode": {
    "name": "ipython",
    "version": 3
   },
   "file_extension": ".py",
   "mimetype": "text/x-python",
   "name": "python",
   "nbconvert_exporter": "python",
   "pygments_lexer": "ipython3",
   "version": "3.8.6"
  }
 },
 "nbformat": 4,
 "nbformat_minor": 5
}
