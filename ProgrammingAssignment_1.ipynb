{
 "cells": [
  {
   "cell_type": "markdown",
   "id": "rental-purse",
   "metadata": {},
   "source": [
    "# 1. Write a Python program to print &quot;Hello Python&quot;?"
   ]
  },
  {
   "cell_type": "code",
   "execution_count": 3,
   "id": "interim-access",
   "metadata": {},
   "outputs": [
    {
     "name": "stdout",
     "output_type": "stream",
     "text": [
      "Hello Python\n"
     ]
    }
   ],
   "source": [
    "class A:\n",
    "    def hello():\n",
    "        print(\"Hello Python\")\n",
    "A.hello()"
   ]
  },
  {
   "cell_type": "markdown",
   "id": "outdoor-economy",
   "metadata": {},
   "source": [
    "# 2. Write a Python program to do arithmetical operations addition and division.?"
   ]
  },
  {
   "cell_type": "code",
   "execution_count": 6,
   "id": "controlling-museum",
   "metadata": {},
   "outputs": [],
   "source": [
    "class B:\n",
    "    def add(a,b):\n",
    "        return a+b\n",
    "    def div(a,b):\n",
    "        return a/b\n"
   ]
  },
  {
   "cell_type": "code",
   "execution_count": 7,
   "id": "excessive-exchange",
   "metadata": {},
   "outputs": [
    {
     "data": {
      "text/plain": [
       "30"
      ]
     },
     "execution_count": 7,
     "metadata": {},
     "output_type": "execute_result"
    }
   ],
   "source": [
    "B.add(10,20)"
   ]
  },
  {
   "cell_type": "code",
   "execution_count": 8,
   "id": "later-index",
   "metadata": {},
   "outputs": [
    {
     "data": {
      "text/plain": [
       "5.0"
      ]
     },
     "execution_count": 8,
     "metadata": {},
     "output_type": "execute_result"
    }
   ],
   "source": [
    "B.div(10,2)"
   ]
  },
  {
   "cell_type": "markdown",
   "id": "accredited-softball",
   "metadata": {},
   "source": [
    "# 3. Write a Python program to find the area of a triangle?"
   ]
  },
  {
   "cell_type": "code",
   "execution_count": 9,
   "id": "raised-forest",
   "metadata": {},
   "outputs": [],
   "source": [
    "class Traingle:\n",
    "    def area_of_traingle(b,h):\n",
    "        return (1/2) * b * h"
   ]
  },
  {
   "cell_type": "code",
   "execution_count": 11,
   "id": "instrumental-realtor",
   "metadata": {},
   "outputs": [
    {
     "data": {
      "text/plain": [
       "4.0"
      ]
     },
     "execution_count": 11,
     "metadata": {},
     "output_type": "execute_result"
    }
   ],
   "source": [
    "Traingle.area_of_traingle(4,2)"
   ]
  },
  {
   "cell_type": "markdown",
   "id": "equipped-bearing",
   "metadata": {},
   "source": [
    "# 4. Write a Python program to swap two variables?"
   ]
  },
  {
   "cell_type": "code",
   "execution_count": 12,
   "id": "competitive-ministry",
   "metadata": {},
   "outputs": [],
   "source": [
    "class Swap:\n",
    "    def swap(var1,var2):\n",
    "        temp = var2\n",
    "        var2 = var1\n",
    "        var1 = temp\n",
    "        return var1 , var2\n",
    "        \n",
    "        "
   ]
  },
  {
   "cell_type": "code",
   "execution_count": 13,
   "id": "honest-locator",
   "metadata": {},
   "outputs": [
    {
     "data": {
      "text/plain": [
       "(3, 2)"
      ]
     },
     "execution_count": 13,
     "metadata": {},
     "output_type": "execute_result"
    }
   ],
   "source": [
    "Swap.swap(2,3)"
   ]
  },
  {
   "cell_type": "markdown",
   "id": "pretty-connection",
   "metadata": {},
   "source": [
    "# 5. Write a Python program to generate a random number?"
   ]
  },
  {
   "cell_type": "code",
   "execution_count": 15,
   "id": "forward-halloween",
   "metadata": {},
   "outputs": [
    {
     "name": "stdout",
     "output_type": "stream",
     "text": [
      "Random Number = 0.1835724614049069\n"
     ]
    }
   ],
   "source": [
    "import random\n",
    "\n",
    "randnum = random.random()\n",
    "print(\"Random Number =\", randnum)"
   ]
  },
  {
   "cell_type": "code",
   "execution_count": null,
   "id": "happy-southwest",
   "metadata": {},
   "outputs": [],
   "source": []
  }
 ],
 "metadata": {
  "kernelspec": {
   "display_name": "Python 3",
   "language": "python",
   "name": "python3"
  },
  "language_info": {
   "codemirror_mode": {
    "name": "ipython",
    "version": 3
   },
   "file_extension": ".py",
   "mimetype": "text/x-python",
   "name": "python",
   "nbconvert_exporter": "python",
   "pygments_lexer": "ipython3",
   "version": "3.8.6"
  }
 },
 "nbformat": 4,
 "nbformat_minor": 5
}
