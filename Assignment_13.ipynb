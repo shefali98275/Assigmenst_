{
 "cells": [
  {
   "cell_type": "markdown",
   "id": "continuous-extraction",
   "metadata": {},
   "source": [
    "# 1. What advantages do Excel spreadsheets have over CSV spreadsheets?"
   ]
  },
  {
   "cell_type": "markdown",
   "id": "apart-bench",
   "metadata": {},
   "source": [
    "It is easier for the end user to read large files.\n",
    "\n",
    "it can hold binary data \n",
    "\n",
    "It makes possible to stores data with any data changes, including formatting, formula adjustment, and macros"
   ]
  },
  {
   "cell_type": "markdown",
   "id": "technical-marker",
   "metadata": {},
   "source": [
    "# 2.What do you pass to csv.reader() and csv.writer() to create reader and writer objects?"
   ]
  },
  {
   "cell_type": "markdown",
   "id": "black-channels",
   "metadata": {},
   "source": [
    "To create csv.reader() object first we need to open that file for that we need to pass file path and mode,\n",
    "\n",
    "here we are trying to create csv.reader() object for that we need to pass 'r' as mode then we will pass that file object\n",
    "\n",
    "into csv.reader() after that it will return csv.reader() object\n"
   ]
  },
  {
   "cell_type": "code",
   "execution_count": 4,
   "id": "widespread-thesis",
   "metadata": {},
   "outputs": [
    {
     "name": "stdout",
     "output_type": "stream",
     "text": [
      "<_io.TextIOWrapper name='C:\\\\Users\\\\techs\\\\Documents\\\\automotive_manufacturing_owl.csv' mode='r' encoding='cp65001'>\n",
      "<_csv.reader object at 0x000002F2894D7280>\n"
     ]
    }
   ],
   "source": [
    "import csv\n",
    "with open(r\"C:\\Users\\techs\\Documents\\automotive_manufacturing_owl.csv\", 'r') as file:\n",
    "    print(file)\n",
    "    reader = csv.reader(file)\n",
    "    print(reader)"
   ]
  },
  {
   "cell_type": "markdown",
   "id": "presidential-wound",
   "metadata": {},
   "source": [
    "To create csv.writer() object first we need to open that file if it is exist otherwise new file will be created for that we \n",
    "\n",
    "need to pass file path and mode,\n",
    "\n",
    "here we are trying to create csv.writer() object for that we need to pass 'w' as mode then we will pass that file object\n",
    "\n",
    "into csv.writer() after that it will return csv.writer() object"
   ]
  },
  {
   "cell_type": "code",
   "execution_count": 7,
   "id": "established-circle",
   "metadata": {},
   "outputs": [],
   "source": [
    "import csv\n",
    "with open('protagonist.csv', 'w', newline='') as file:\n",
    "    writer = csv.writer(file)\n",
    "    writer.writerow([\"SN\", \"Movie\", \"Protagonist\"])"
   ]
  },
  {
   "cell_type": "markdown",
   "id": "grave-chart",
   "metadata": {},
   "source": [
    "# 3. What modes do File objects for reader and writer objects need to be opened in?"
   ]
  },
  {
   "cell_type": "markdown",
   "id": "compact-technique",
   "metadata": {},
   "source": [
    "for reader - 'r'"
   ]
  },
  {
   "cell_type": "markdown",
   "id": "greatest-founder",
   "metadata": {},
   "source": [
    "for writer - 'w'"
   ]
  },
  {
   "cell_type": "markdown",
   "id": "cellular-tribute",
   "metadata": {},
   "source": [
    "# 4. What method takes a list argument and writes it to a CSV file?"
   ]
  },
  {
   "cell_type": "code",
   "execution_count": 46,
   "id": "framed-peace",
   "metadata": {},
   "outputs": [],
   "source": [
    "with open('Demo1.csv', 'w') as file:\n",
    "    writer = csv.writer(file, delimiter = '\\t',lineterminator='\\t')\n",
    "    myList = [4, 'Joel','Golang']\n",
    "    writer.writerow(myList)\n",
    "    myList = [4, 'Joel','Golang']\n",
    "    writer.writerow(myList)"
   ]
  },
  {
   "cell_type": "markdown",
   "id": "supposed-trance",
   "metadata": {},
   "source": [
    "# 5. What do the keyword arguments delimiter and line terminator do?"
   ]
  },
  {
   "cell_type": "markdown",
   "id": "nonprofit-pickup",
   "metadata": {},
   "source": [
    "delimiter specifies the character used to separate each field. The default is the comma (',')."
   ]
  },
  {
   "cell_type": "markdown",
   "id": "coordinated-moderator",
   "metadata": {},
   "source": [
    "lineterminator comes at end of line by default '\\n' pass in lineterminator then new line will be created and according to requirement we can change it"
   ]
  },
  {
   "cell_type": "markdown",
   "id": "bound-great",
   "metadata": {},
   "source": [
    "# 6. What function takes a string of JSON data and returns a Python data structure?"
   ]
  },
  {
   "cell_type": "code",
   "execution_count": 76,
   "id": "approximate-soccer",
   "metadata": {},
   "outputs": [
    {
     "name": "stdout",
     "output_type": "stream",
     "text": [
      "<class 'str'>\n",
      "{\n",
      "    \"Name\": \"Mano Vishnu\",\n",
      "    \"Qualification\": \"Bachelor of Technology\",\n",
      "    \"Stream\": \"Computer Science and Engineering\"\n",
      "}\n"
     ]
    }
   ],
   "source": [
    "# Example of json.loads() method\n",
    "import json\n",
    "my_details_json ='''{\n",
    "    \"Name\": \"Mano Vishnu\",\n",
    "    \"Qualification\": \"Bachelor of Technology\",\n",
    "    \"Stream\": \"Computer Science and Engineering\"\n",
    "}'''\n",
    "print(type(my_details_json))\n",
    "print(my_details_json)"
   ]
  },
  {
   "cell_type": "code",
   "execution_count": 77,
   "id": "traditional-russian",
   "metadata": {},
   "outputs": [
    {
     "name": "stdout",
     "output_type": "stream",
     "text": [
      "<class 'dict'>\n",
      "{'Name': 'Mano Vishnu', 'Qualification': 'Bachelor of Technology', 'Stream': 'Computer Science and Engineering'}\n"
     ]
    }
   ],
   "source": [
    "my_details = json.loads(my_details_json)\n",
    "print(type(my_details))\n",
    "print(my_details)"
   ]
  },
  {
   "cell_type": "markdown",
   "id": "social-worth",
   "metadata": {},
   "source": [
    "# 7. What function takes a Python data structure and returns a string of JSON data?"
   ]
  },
  {
   "cell_type": "code",
   "execution_count": 81,
   "id": "embedded-ordering",
   "metadata": {},
   "outputs": [],
   "source": [
    "dic = {'Name': 'Mano Vishnu', 'Qualification': 'Bachelor of Technology', 'Stream': 'Computer Science and Engineering'}"
   ]
  },
  {
   "cell_type": "code",
   "execution_count": 82,
   "id": "recent-species",
   "metadata": {},
   "outputs": [],
   "source": [
    "my_details = json.dumps(dic)"
   ]
  },
  {
   "cell_type": "code",
   "execution_count": 83,
   "id": "raised-tennessee",
   "metadata": {},
   "outputs": [
    {
     "data": {
      "text/plain": [
       "'{\"Name\": \"Mano Vishnu\", \"Qualification\": \"Bachelor of Technology\", \"Stream\": \"Computer Science and Engineering\"}'"
      ]
     },
     "execution_count": 83,
     "metadata": {},
     "output_type": "execute_result"
    }
   ],
   "source": [
    "my_details"
   ]
  },
  {
   "cell_type": "code",
   "execution_count": null,
   "id": "dried-guinea",
   "metadata": {},
   "outputs": [],
   "source": []
  }
 ],
 "metadata": {
  "kernelspec": {
   "display_name": "Python 3",
   "language": "python",
   "name": "python3"
  },
  "language_info": {
   "codemirror_mode": {
    "name": "ipython",
    "version": 3
   },
   "file_extension": ".py",
   "mimetype": "text/x-python",
   "name": "python",
   "nbconvert_exporter": "python",
   "pygments_lexer": "ipython3",
   "version": "3.8.6"
  }
 },
 "nbformat": 4,
 "nbformat_minor": 5
}
