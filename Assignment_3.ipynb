{
 "cells": [
  {
   "cell_type": "markdown",
   "id": "unsigned-triangle",
   "metadata": {},
   "source": [
    "# 1. Why are functions advantageous to have in your programs?"
   ]
  },
  {
   "cell_type": "markdown",
   "id": "assisted-headquarters",
   "metadata": {},
   "source": [
    "functions are play vital role in every programming like it enhance the readabilty of a program ,\n",
    "you can use function from anywhere whenever you need it , it increase reusability , it makes code more maintainable\n",
    ",it makes code more efficient."
   ]
  },
  {
   "cell_type": "markdown",
   "id": "framed-exchange",
   "metadata": {},
   "source": [
    "# 2. When does the code in a function run: when it&#39;s specified or when it&#39;s called?"
   ]
  },
  {
   "cell_type": "markdown",
   "id": "invalid-relationship",
   "metadata": {},
   "source": [
    "when you called it"
   ]
  },
  {
   "cell_type": "markdown",
   "id": "painful-shopping",
   "metadata": {},
   "source": [
    "# 3. What statement creates a function?"
   ]
  },
  {
   "cell_type": "markdown",
   "id": "center-thriller",
   "metadata": {},
   "source": [
    "def keyword is used to creat a function\n",
    "\n",
    "def function_name(parameters)  :\n",
    "\n",
    " statements_of_function\n",
    "\n",
    " return value"
   ]
  },
  {
   "cell_type": "markdown",
   "id": "strange-approval",
   "metadata": {},
   "source": [
    "# 4. What is the difference between a function and a function call?"
   ]
  },
  {
   "cell_type": "markdown",
   "id": "sexual-reader",
   "metadata": {},
   "source": [
    "a function is a group of related statements that performs a specific task\n",
    "\n",
    "or we can say in a other words its a place to write a task for a requirement\n",
    "\n",
    "Functions are the piece of code that is not executed automatically until you won’t call it. that is called function call"
   ]
  },
  {
   "cell_type": "markdown",
   "id": "intended-simple",
   "metadata": {},
   "source": [
    "# 5. How many global scopes are there in a Python program? How many local scopes?"
   ]
  },
  {
   "cell_type": "markdown",
   "id": "premier-timing",
   "metadata": {},
   "source": [
    "One global scope\n",
    "\n",
    "One local scope"
   ]
  },
  {
   "cell_type": "markdown",
   "id": "finnish-being",
   "metadata": {},
   "source": [
    "# 6. What happens to variables in a local scope when the function call returns?"
   ]
  },
  {
   "cell_type": "code",
   "execution_count": 1,
   "id": "related-burns",
   "metadata": {},
   "outputs": [],
   "source": [
    "class A:\n",
    "    def m1(self):\n",
    "        a = 10\n",
    "        return a"
   ]
  },
  {
   "cell_type": "code",
   "execution_count": 2,
   "id": "demographic-centre",
   "metadata": {},
   "outputs": [
    {
     "data": {
      "text/plain": [
       "10"
      ]
     },
     "execution_count": 2,
     "metadata": {},
     "output_type": "execute_result"
    }
   ],
   "source": [
    "a = A()\n",
    "a.m1()"
   ]
  },
  {
   "cell_type": "markdown",
   "id": "protective-colon",
   "metadata": {},
   "source": [
    "1- The variable a will be created in memory every single time the function is called.\n",
    "\n",
    "2 - It is deallocated when the function returns."
   ]
  },
  {
   "cell_type": "markdown",
   "id": "oriental-architect",
   "metadata": {},
   "source": [
    "# 7. What is the concept of a return value? Is it possible to have a return value in an expression?"
   ]
  },
  {
   "cell_type": "markdown",
   "id": "devoted-spine",
   "metadata": {},
   "source": [
    "Return Statement:\n",
    "\n",
    "Function can take input values as parameters and executes business logic, and returns \n",
    "\n",
    "output to the caller with return statement."
   ]
  },
  {
   "cell_type": "code",
   "execution_count": 3,
   "id": "pending-legend",
   "metadata": {},
   "outputs": [
    {
     "data": {
      "text/plain": [
       "5"
      ]
     },
     "execution_count": 3,
     "metadata": {},
     "output_type": "execute_result"
    }
   ],
   "source": [
    "def m2():\n",
    "    return 2 + 3\n",
    "m2()"
   ]
  },
  {
   "cell_type": "markdown",
   "id": "cordless-hamilton",
   "metadata": {},
   "source": [
    "it is possible to have a return value in an expression"
   ]
  },
  {
   "cell_type": "markdown",
   "id": "green-massachusetts",
   "metadata": {},
   "source": [
    "# 8. If a function does not have a return statement, what is the return value of a call to that function?"
   ]
  },
  {
   "cell_type": "code",
   "execution_count": 4,
   "id": "bibliographic-wallace",
   "metadata": {},
   "outputs": [
    {
     "name": "stdout",
     "output_type": "stream",
     "text": [
      "Hello\n",
      "Hello\n",
      "None\n"
     ]
    }
   ],
   "source": [
    "def f1(): \n",
    "    print(\"Hello\") \n",
    "f1() \n",
    "print(f1())"
   ]
  },
  {
   "cell_type": "markdown",
   "id": "severe-blake",
   "metadata": {},
   "source": [
    "If we are not writing return statement then default return value is None"
   ]
  },
  {
   "cell_type": "markdown",
   "id": "threatened-abortion",
   "metadata": {},
   "source": [
    "# 9. How do you make a function variable refer to the global variable?"
   ]
  },
  {
   "cell_type": "markdown",
   "id": "african-mapping",
   "metadata": {},
   "source": [
    "If you want to refer to a global variable in a function, \n",
    "you can use the global keyword to declare which variables are global."
   ]
  },
  {
   "cell_type": "code",
   "execution_count": 7,
   "id": "classical-korean",
   "metadata": {},
   "outputs": [
    {
     "data": {
      "text/plain": [
       "10"
      ]
     },
     "execution_count": 7,
     "metadata": {},
     "output_type": "execute_result"
    }
   ],
   "source": [
    "class A:\n",
    "    def m2():\n",
    "        global a\n",
    "        a = 10\n",
    "        return a\n",
    "a1 = A()\n",
    "A.m2()"
   ]
  },
  {
   "cell_type": "markdown",
   "id": "spatial-provider",
   "metadata": {},
   "source": [
    "# 10. What is the data type of None?"
   ]
  },
  {
   "cell_type": "markdown",
   "id": "shared-handy",
   "metadata": {},
   "source": [
    "None is a data type in python \n",
    "    \n",
    "None means Nothing or No value associated.\n",
    "\n",
    "If the value is not available,then to handle such type of cases None introduced.\n",
    "\n",
    "It is something like null value in Java."
   ]
  },
  {
   "cell_type": "markdown",
   "id": "welcome-stake",
   "metadata": {},
   "source": [
    "# 11. What does the sentence import areallyourpetsnamederic do?"
   ]
  },
  {
   "cell_type": "code",
   "execution_count": 12,
   "id": "bronze-california",
   "metadata": {},
   "outputs": [
    {
     "ename": "ModuleNotFoundError",
     "evalue": "No module named 'areallyourpetsnamederic'",
     "output_type": "error",
     "traceback": [
      "\u001b[1;31m---------------------------------------------------------------------------\u001b[0m",
      "\u001b[1;31mModuleNotFoundError\u001b[0m                       Traceback (most recent call last)",
      "\u001b[1;32m<ipython-input-12-b1ea9cb2228f>\u001b[0m in \u001b[0;36m<module>\u001b[1;34m\u001b[0m\n\u001b[1;32m----> 1\u001b[1;33m \u001b[1;32mimport\u001b[0m \u001b[0mareallyourpetsnamederic\u001b[0m\u001b[1;33m\u001b[0m\u001b[1;33m\u001b[0m\u001b[0m\n\u001b[0m",
      "\u001b[1;31mModuleNotFoundError\u001b[0m: No module named 'areallyourpetsnamederic'"
     ]
    }
   ],
   "source": [
    "import areallyourpetsnamederic"
   ]
  },
  {
   "cell_type": "markdown",
   "id": "solved-cabin",
   "metadata": {},
   "source": [
    "it will give u error No module named 'areallyourpetsnamederic'\n",
    "\n",
    "you need to create a module as per this name "
   ]
  },
  {
   "cell_type": "markdown",
   "id": "stopped-truck",
   "metadata": {},
   "source": [
    "# 12. If you had a bacon() feature in a spam module, what would you call it after importing spam?"
   ]
  },
  {
   "cell_type": "markdown",
   "id": "completed-youth",
   "metadata": {},
   "source": [
    "import spam\n",
    "\n",
    "# this function can we called with spam.bacon()\n"
   ]
  },
  {
   "cell_type": "markdown",
   "id": "complicated-juice",
   "metadata": {},
   "source": [
    "import spam\n",
    "\n",
    "spam.bacon()"
   ]
  },
  {
   "cell_type": "markdown",
   "id": "favorite-demographic",
   "metadata": {},
   "source": [
    "# 13. What can you do to save a programme from crashing if it encounters an error?"
   ]
  },
  {
   "cell_type": "markdown",
   "id": "greater-seafood",
   "metadata": {},
   "source": [
    "in any programming language there two type of error\n",
    "\n",
    "1 - syntax error - Programmer is responsible to correct these syntax errors. Once all syntax errors are \n",
    "\n",
    "corrected then only program execution will be started.\n",
    "\n",
    "2- runtime error - While executing the program if something goes wrong because of end user input or \n",
    "\n",
    "programming logic or memory problems etc then we will get Runtime Errors.\n",
    "\n",
    "\n",
    "\n",
    "# We can handle runtime errors by using Exception Handling concept applicable for Runtime Errors but not for syntax errors it will save your programme from crashing if it encounters an error"
   ]
  },
  {
   "cell_type": "code",
   "execution_count": null,
   "id": "extended-fashion",
   "metadata": {},
   "outputs": [],
   "source": []
  },
  {
   "cell_type": "markdown",
   "id": "sunrise-emphasis",
   "metadata": {},
   "source": [
    "# 14. What is the purpose of the try clause? What is the purpose of the except clause?"
   ]
  },
  {
   "cell_type": "markdown",
   "id": "senior-margin",
   "metadata": {},
   "source": [
    "It is highly recommended to handle exceptions.\n"
   ]
  },
  {
   "cell_type": "markdown",
   "id": "medium-retro",
   "metadata": {},
   "source": [
    "try clause - The code which may raise exception is called risky code and we have to take risky code \n",
    "inside try block. "
   ]
  },
  {
   "cell_type": "markdown",
   "id": "physical-notice",
   "metadata": {},
   "source": [
    "except clause - The corresponding handling code we have to take inside except block."
   ]
  },
  {
   "cell_type": "code",
   "execution_count": null,
   "id": "sonic-turtle",
   "metadata": {},
   "outputs": [],
   "source": []
  }
 ],
 "metadata": {
  "kernelspec": {
   "display_name": "Python 3",
   "language": "python",
   "name": "python3"
  },
  "language_info": {
   "codemirror_mode": {
    "name": "ipython",
    "version": 3
   },
   "file_extension": ".py",
   "mimetype": "text/x-python",
   "name": "python",
   "nbconvert_exporter": "python",
   "pygments_lexer": "ipython3",
   "version": "3.8.6"
  }
 },
 "nbformat": 4,
 "nbformat_minor": 5
}
