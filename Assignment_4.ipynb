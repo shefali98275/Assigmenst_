{
 "cells": [
  {
   "cell_type": "markdown",
   "id": "japanese-heater",
   "metadata": {},
   "source": [
    "# 1. What exactly is []?"
   ]
  },
  {
   "cell_type": "markdown",
   "id": "damaged-limit",
   "metadata": {},
   "source": [
    "its a empty list"
   ]
  },
  {
   "cell_type": "markdown",
   "id": "digital-profession",
   "metadata": {},
   "source": [
    "# 2. In a list of values stored in a variable called spam, how would you assign the value &#39;hello&#39; as the third value? (Assume [2, 4, 6, 8, 10] are in spam.)"
   ]
  },
  {
   "cell_type": "code",
   "execution_count": 1,
   "id": "synthetic-lighter",
   "metadata": {},
   "outputs": [],
   "source": [
    "spam = [2,4,6,8,10]"
   ]
  },
  {
   "cell_type": "code",
   "execution_count": 2,
   "id": "registered-ownership",
   "metadata": {},
   "outputs": [],
   "source": [
    "spam.insert(2,\"hello\")"
   ]
  },
  {
   "cell_type": "code",
   "execution_count": 3,
   "id": "precious-postcard",
   "metadata": {},
   "outputs": [
    {
     "data": {
      "text/plain": [
       "[2, 4, 'hello', 6, 8, 10]"
      ]
     },
     "execution_count": 3,
     "metadata": {},
     "output_type": "execute_result"
    }
   ],
   "source": [
    "spam"
   ]
  },
  {
   "cell_type": "markdown",
   "id": "severe-spell",
   "metadata": {},
   "source": [
    "# Let's pretend the spam includes the list ['a','b','c','d'] for the next three queries."
   ]
  },
  {
   "cell_type": "code",
   "execution_count": 4,
   "id": "moral-kuwait",
   "metadata": {},
   "outputs": [],
   "source": [
    "spam = ['a','b','c','d']"
   ]
  },
  {
   "cell_type": "markdown",
   "id": "sudden-legislation",
   "metadata": {},
   "source": [
    "# 3. What is the value of spam[int(int(&#39;3&#39; * 2) / 11)]?"
   ]
  },
  {
   "cell_type": "code",
   "execution_count": 5,
   "id": "numeric-chorus",
   "metadata": {},
   "outputs": [
    {
     "data": {
      "text/plain": [
       "'d'"
      ]
     },
     "execution_count": 5,
     "metadata": {},
     "output_type": "execute_result"
    }
   ],
   "source": [
    "spam[int(int('3' * 2) / 11)]"
   ]
  },
  {
   "cell_type": "markdown",
   "id": "successful-hundred",
   "metadata": {},
   "source": [
    "# 4. What is the value of spam[-1]?"
   ]
  },
  {
   "cell_type": "code",
   "execution_count": 12,
   "id": "driving-astrology",
   "metadata": {},
   "outputs": [
    {
     "data": {
      "text/plain": [
       "'d'"
      ]
     },
     "execution_count": 12,
     "metadata": {},
     "output_type": "execute_result"
    }
   ],
   "source": [
    "spam[-1]"
   ]
  },
  {
   "cell_type": "markdown",
   "id": "referenced-pennsylvania",
   "metadata": {},
   "source": [
    "# 5. What is the value of spam[:2]?"
   ]
  },
  {
   "cell_type": "code",
   "execution_count": 13,
   "id": "addressed-preliminary",
   "metadata": {},
   "outputs": [
    {
     "data": {
      "text/plain": [
       "['a', 'b']"
      ]
     },
     "execution_count": 13,
     "metadata": {},
     "output_type": "execute_result"
    }
   ],
   "source": [
    "spam[:2]"
   ]
  },
  {
   "cell_type": "markdown",
   "id": "protected-squad",
   "metadata": {},
   "source": [
    "# Let's pretend bacon has the list [3.14,'cat', 11,'cat',True] for the next three questions."
   ]
  },
  {
   "cell_type": "code",
   "execution_count": 15,
   "id": "compact-messaging",
   "metadata": {},
   "outputs": [],
   "source": [
    "bacon = [3.14,'cat', 11,'cat',True]"
   ]
  },
  {
   "cell_type": "markdown",
   "id": "ordered-hungary",
   "metadata": {},
   "source": [
    "# 6. What is the value of bacon.index('cat')?"
   ]
  },
  {
   "cell_type": "code",
   "execution_count": 16,
   "id": "grave-story",
   "metadata": {},
   "outputs": [
    {
     "data": {
      "text/plain": [
       "1"
      ]
     },
     "execution_count": 16,
     "metadata": {},
     "output_type": "execute_result"
    }
   ],
   "source": [
    "bacon.index('cat')"
   ]
  },
  {
   "cell_type": "markdown",
   "id": "rental-nutrition",
   "metadata": {},
   "source": [
    "# 7. How does bacon.append(99) change the look of the list value in bacon?"
   ]
  },
  {
   "cell_type": "code",
   "execution_count": 17,
   "id": "trained-earthquake",
   "metadata": {},
   "outputs": [],
   "source": [
    "bacon.append(99)"
   ]
  },
  {
   "cell_type": "code",
   "execution_count": 18,
   "id": "comic-dryer",
   "metadata": {},
   "outputs": [
    {
     "data": {
      "text/plain": [
       "[3.14, 'cat', 11, 'cat', True, 99]"
      ]
     },
     "execution_count": 18,
     "metadata": {},
     "output_type": "execute_result"
    }
   ],
   "source": [
    "bacon"
   ]
  },
  {
   "cell_type": "markdown",
   "id": "knowing-impression",
   "metadata": {},
   "source": [
    "# 8. How does bacon.remove('cat') change the look of the list in bacon?"
   ]
  },
  {
   "cell_type": "code",
   "execution_count": 19,
   "id": "becoming-liver",
   "metadata": {},
   "outputs": [],
   "source": [
    "bacon.remove('cat')"
   ]
  },
  {
   "cell_type": "code",
   "execution_count": 20,
   "id": "sharp-duncan",
   "metadata": {},
   "outputs": [
    {
     "data": {
      "text/plain": [
       "[3.14, 11, 'cat', True, 99]"
      ]
     },
     "execution_count": 20,
     "metadata": {},
     "output_type": "execute_result"
    }
   ],
   "source": [
    "bacon"
   ]
  },
  {
   "cell_type": "markdown",
   "id": "representative-knitting",
   "metadata": {},
   "source": [
    "# 9. What are the list concatenation and list replication operators?"
   ]
  },
  {
   "cell_type": "code",
   "execution_count": 21,
   "id": "indoor-musical",
   "metadata": {},
   "outputs": [
    {
     "data": {
      "text/plain": [
       "['a', 'b']"
      ]
     },
     "execution_count": 21,
     "metadata": {},
     "output_type": "execute_result"
    }
   ],
   "source": [
    "['a'] + ['b']"
   ]
  },
  {
   "cell_type": "markdown",
   "id": "acceptable-collectible",
   "metadata": {},
   "source": [
    "list concatention is a process of combining multiple lists into one list or in the other words you can say \n",
    "\n",
    "The '+' operator can be used to concatenate two lists. It appends one list at the end of the other list and results in a\n",
    "\n",
    "new list as output."
   ]
  },
  {
   "cell_type": "markdown",
   "id": "outstanding-tribute",
   "metadata": {},
   "source": [
    "list replication - To repeat the elements in a list in python, we insert the existing elements of a list to the same list. In this way, the\n",
    "\n",
    "elements in a list get repeated.\n"
   ]
  },
  {
   "cell_type": "code",
   "execution_count": 25,
   "id": "nasty-calendar",
   "metadata": {},
   "outputs": [
    {
     "data": {
      "text/plain": [
       "[1, 3, 5, 6, 7, 1, 3, 5, 6, 7]"
      ]
     },
     "execution_count": 25,
     "metadata": {},
     "output_type": "execute_result"
    }
   ],
   "source": [
    "[1,3,5,6,7]*2"
   ]
  },
  {
   "cell_type": "markdown",
   "id": "everyday-rolling",
   "metadata": {},
   "source": [
    "# 10. What is difference between the list methods append() and insert()?"
   ]
  },
  {
   "cell_type": "markdown",
   "id": "civil-photography",
   "metadata": {},
   "source": [
    "append() = append() function basically to add element at end of the list \n",
    "\n",
    "for example"
   ]
  },
  {
   "cell_type": "code",
   "execution_count": 26,
   "id": "extraordinary-video",
   "metadata": {},
   "outputs": [],
   "source": [
    "list_1 = [1,2,3,5]"
   ]
  },
  {
   "cell_type": "markdown",
   "id": "golden-google",
   "metadata": {},
   "source": [
    "before appending a element"
   ]
  },
  {
   "cell_type": "code",
   "execution_count": 27,
   "id": "rough-oriental",
   "metadata": {},
   "outputs": [
    {
     "data": {
      "text/plain": [
       "[1, 2, 3, 5]"
      ]
     },
     "execution_count": 27,
     "metadata": {},
     "output_type": "execute_result"
    }
   ],
   "source": [
    "list_1"
   ]
  },
  {
   "cell_type": "code",
   "execution_count": 28,
   "id": "extra-angle",
   "metadata": {},
   "outputs": [],
   "source": [
    "list_1.append(6)"
   ]
  },
  {
   "cell_type": "markdown",
   "id": "processed-luther",
   "metadata": {},
   "source": [
    "after appending a element"
   ]
  },
  {
   "cell_type": "code",
   "execution_count": 29,
   "id": "distinguished-bolivia",
   "metadata": {},
   "outputs": [
    {
     "data": {
      "text/plain": [
       "[1, 2, 3, 5, 6]"
      ]
     },
     "execution_count": 29,
     "metadata": {},
     "output_type": "execute_result"
    }
   ],
   "source": [
    "list_1"
   ]
  },
  {
   "cell_type": "markdown",
   "id": "italian-folks",
   "metadata": {},
   "source": [
    "insert() = insert() function is used to add new element into existing list for that you need to specify index value and \n",
    "\n",
    "new element will be inserted on the specified location into existing list\n"
   ]
  },
  {
   "cell_type": "code",
   "execution_count": 39,
   "id": "least-waste",
   "metadata": {},
   "outputs": [],
   "source": [
    "list_1 = [1,2,3,4,5]"
   ]
  },
  {
   "cell_type": "markdown",
   "id": "medical-plymouth",
   "metadata": {},
   "source": [
    "before inserting new element"
   ]
  },
  {
   "cell_type": "code",
   "execution_count": 40,
   "id": "documentary-sending",
   "metadata": {},
   "outputs": [
    {
     "data": {
      "text/plain": [
       "[1, 2, 3, 4, 5]"
      ]
     },
     "execution_count": 40,
     "metadata": {},
     "output_type": "execute_result"
    }
   ],
   "source": [
    "list_1"
   ]
  },
  {
   "cell_type": "code",
   "execution_count": 41,
   "id": "incorrect-rhythm",
   "metadata": {},
   "outputs": [],
   "source": [
    "list_1.insert(0,12)"
   ]
  },
  {
   "cell_type": "markdown",
   "id": "moved-shadow",
   "metadata": {},
   "source": [
    "after inserting a new element"
   ]
  },
  {
   "cell_type": "code",
   "execution_count": 42,
   "id": "defensive-medication",
   "metadata": {},
   "outputs": [
    {
     "data": {
      "text/plain": [
       "[12, 1, 2, 3, 4, 5]"
      ]
     },
     "execution_count": 42,
     "metadata": {},
     "output_type": "execute_result"
    }
   ],
   "source": [
    "list_1"
   ]
  },
  {
   "cell_type": "markdown",
   "id": "mobile-valve",
   "metadata": {},
   "source": [
    "# 11. What are the two methods for removing items from a list?"
   ]
  },
  {
   "cell_type": "markdown",
   "id": "harmful-complex",
   "metadata": {},
   "source": [
    "remove() - method removes the first occurrence of the given object from the list.\n",
    "\n",
    "pop() - method removes the element at the given index and returns it. If the index is not provided, the last element is removed and returned\n",
    "\n",
    "del - keyword allows you to remove an element from a list by specifying the position of the element."
   ]
  },
  {
   "cell_type": "code",
   "execution_count": 55,
   "id": "going-turning",
   "metadata": {},
   "outputs": [],
   "source": [
    "list_1 = [1,2,3,4,5,6,7,8,9,3,3,3]"
   ]
  },
  {
   "cell_type": "code",
   "execution_count": 56,
   "id": "delayed-rachel",
   "metadata": {},
   "outputs": [],
   "source": [
    "list_1.remove(1)"
   ]
  },
  {
   "cell_type": "code",
   "execution_count": 57,
   "id": "documentary-vision",
   "metadata": {},
   "outputs": [
    {
     "data": {
      "text/plain": [
       "[2, 3, 4, 5, 6, 7, 8, 9, 3, 3, 3]"
      ]
     },
     "execution_count": 57,
     "metadata": {},
     "output_type": "execute_result"
    }
   ],
   "source": [
    "list_1"
   ]
  },
  {
   "cell_type": "code",
   "execution_count": 58,
   "id": "administrative-browse",
   "metadata": {},
   "outputs": [
    {
     "data": {
      "text/plain": [
       "3"
      ]
     },
     "execution_count": 58,
     "metadata": {},
     "output_type": "execute_result"
    }
   ],
   "source": [
    "list_1.pop(1)"
   ]
  },
  {
   "cell_type": "code",
   "execution_count": 59,
   "id": "earlier-official",
   "metadata": {},
   "outputs": [
    {
     "data": {
      "text/plain": [
       "[2, 4, 5, 6, 7, 8, 9, 3, 3, 3]"
      ]
     },
     "execution_count": 59,
     "metadata": {},
     "output_type": "execute_result"
    }
   ],
   "source": [
    "list_1"
   ]
  },
  {
   "cell_type": "code",
   "execution_count": 60,
   "id": "second-needle",
   "metadata": {},
   "outputs": [],
   "source": [
    "del list_1[0]"
   ]
  },
  {
   "cell_type": "code",
   "execution_count": 61,
   "id": "motivated-arrow",
   "metadata": {},
   "outputs": [
    {
     "data": {
      "text/plain": [
       "[4, 5, 6, 7, 8, 9, 3, 3, 3]"
      ]
     },
     "execution_count": 61,
     "metadata": {},
     "output_type": "execute_result"
    }
   ],
   "source": [
    "list_1"
   ]
  },
  {
   "cell_type": "markdown",
   "id": "incorporate-cambridge",
   "metadata": {},
   "source": [
    "# 12. Describe how list values and string values are identical."
   ]
  },
  {
   "cell_type": "markdown",
   "id": "general-senior",
   "metadata": {},
   "source": [
    "The main similarity between Strings and List is that in Python both are sequences. A string is a character's sequence between single or double quotations. A list is an item sequence in which each item could be anything such as a float, an integer, a string, etc\n",
    "\n",
    "The second similarity between Strings and Lists is that both strings and lists have lengths. A length of a string is the number of characters in the string and a length of a list is the number of items in the list.\n",
    "\n",
    "The third similarity between Strings and Lists is that both strings and lists have a position. Every character in a string as well as every item in a list has a position which is known as an index."
   ]
  },
  {
   "cell_type": "markdown",
   "id": "hydraulic-night",
   "metadata": {},
   "source": [
    "# 13. What's the difference between tuples and lists?"
   ]
  },
  {
   "cell_type": "markdown",
   "id": "arabic-sleeve",
   "metadata": {},
   "source": [
    "list - 1) List is a Group of Comma separeated \n",
    "Values within Square Brackets and Square \n",
    "Brackets are mandatory.\n",
    "Eg: i = [10, 20, 30, 40]\n"
   ]
  },
  {
   "cell_type": "markdown",
   "id": "russian-generator",
   "metadata": {},
   "source": [
    "1) Tuple is a Group of Comma separeated \n",
    "Values within Parenthesis and Parenthesis \n",
    "are optional.\n",
    "Eg: t = (10, 20, 30, 40)\n",
    " t = 10, 20, 30, 40"
   ]
  },
  {
   "cell_type": "markdown",
   "id": "varying-colony",
   "metadata": {},
   "source": [
    "2) List Objects are Mutable i.e. once we \n",
    "creates List Object we can perform any \n",
    "changes in that Object.\n",
    "Eg: i[1] = 70"
   ]
  },
  {
   "cell_type": "markdown",
   "id": "painted-sucking",
   "metadata": {},
   "source": [
    "2) Tuple Objeccts are Immutable i.e. once \n",
    "we creates Tuple Object we cannot change \n",
    "its content.\n",
    "t[1] = 70  ValueError: tuple object does \n",
    "not support item assignment."
   ]
  },
  {
   "cell_type": "markdown",
   "id": "metric-florida",
   "metadata": {},
   "source": [
    "# 14. How do you type a tuple value that only contains the integer 42?"
   ]
  },
  {
   "cell_type": "code",
   "execution_count": 69,
   "id": "mounted-antique",
   "metadata": {},
   "outputs": [],
   "source": [
    "tuple_1 = (40,)"
   ]
  },
  {
   "cell_type": "code",
   "execution_count": 70,
   "id": "younger-pregnancy",
   "metadata": {},
   "outputs": [
    {
     "data": {
      "text/plain": [
       "tuple"
      ]
     },
     "execution_count": 70,
     "metadata": {},
     "output_type": "execute_result"
    }
   ],
   "source": [
    "type(tuple_1)"
   ]
  },
  {
   "cell_type": "markdown",
   "id": "loved-baker",
   "metadata": {},
   "source": [
    "# 15. How do you get a list value&#39;s tuple form? How do you get a tuple value&#39;s list form?"
   ]
  },
  {
   "cell_type": "code",
   "execution_count": 83,
   "id": "agreed-reader",
   "metadata": {},
   "outputs": [],
   "source": [
    "list_1 = [1,2,4,5]"
   ]
  },
  {
   "cell_type": "code",
   "execution_count": 84,
   "id": "stopped-metadata",
   "metadata": {},
   "outputs": [
    {
     "data": {
      "text/plain": [
       "(1, 2, 4, 5)"
      ]
     },
     "execution_count": 84,
     "metadata": {},
     "output_type": "execute_result"
    }
   ],
   "source": [
    "tuple(list_1)"
   ]
  },
  {
   "cell_type": "code",
   "execution_count": 85,
   "id": "collective-particle",
   "metadata": {},
   "outputs": [],
   "source": [
    "tuple_1 = (1,2,3,4)"
   ]
  },
  {
   "cell_type": "code",
   "execution_count": 86,
   "id": "indie-fabric",
   "metadata": {},
   "outputs": [
    {
     "data": {
      "text/plain": [
       "[1, 2, 3, 4]"
      ]
     },
     "execution_count": 86,
     "metadata": {},
     "output_type": "execute_result"
    }
   ],
   "source": [
    "list(tuple_1)"
   ]
  },
  {
   "cell_type": "markdown",
   "id": "retained-tract",
   "metadata": {},
   "source": [
    "# 16. Variables that &quot;contain&quot; list values are not necessarily lists themselves. Instead, what do they contain?"
   ]
  },
  {
   "cell_type": "markdown",
   "id": "general-bracket",
   "metadata": {},
   "source": [
    " group of individual objects as a single unit"
   ]
  },
  {
   "cell_type": "markdown",
   "id": "nutritional-friday",
   "metadata": {},
   "source": [
    "# 17. How do you distinguish between copy.copy() and copy.deepcopy()?"
   ]
  },
  {
   "cell_type": "markdown",
   "id": "celtic-group",
   "metadata": {},
   "source": [
    "copy.copy()"
   ]
  },
  {
   "cell_type": "code",
   "execution_count": 142,
   "id": "flush-douglas",
   "metadata": {},
   "outputs": [
    {
     "name": "stdout",
     "output_type": "stream",
     "text": [
      "Old list: [[1, 1, 1], [2, 2, 2], [3, 3, 3], [4, 4, 4]]\n",
      "New list: [[1, 1, 1], [2, 2, 2], [3, 3, 3]]\n"
     ]
    }
   ],
   "source": [
    "#Example 3: Adding [4, 4, 4] to old_list, using shallow copy\n",
    "import copy\n",
    "\n",
    "old_list = [[1, 1, 1], [2, 2, 2], [3, 3, 3]]\n",
    "new_list = copy.copy(old_list)\n",
    "\n",
    "old_list.append([4, 4, 4])\n",
    "\n",
    "print(\"Old list:\", old_list)\n",
    "print(\"New list:\", new_list)"
   ]
  },
  {
   "cell_type": "markdown",
   "id": "detected-yemen",
   "metadata": {},
   "source": [
    "In the above program, we created a shallow copy of old_list. The new_list contains references to original nested objects stored in old_list. Then we add the new list i.e [4, 4, 4] into old_list. This new sublist was not copied in new_list.\n",
    "\n",
    "However, when you change any nested objects in old_list, the changes appear in new_list."
   ]
  },
  {
   "cell_type": "code",
   "execution_count": 143,
   "id": "caring-piano",
   "metadata": {},
   "outputs": [
    {
     "name": "stdout",
     "output_type": "stream",
     "text": [
      "Old list: [[1, 1, 1], [2, 'AA', 2], [3, 3, 3]]\n",
      "New list: [[1, 1, 1], [2, 'AA', 2], [3, 3, 3]]\n"
     ]
    }
   ],
   "source": [
    "#Example 4: Adding new nested object using Shallow copy\n",
    "import copy\n",
    "\n",
    "old_list = [[1, 1, 1], [2, 2, 2], [3, 3, 3]]\n",
    "new_list = copy.copy(old_list)\n",
    "\n",
    "old_list[1][1] = 'AA'\n",
    "\n",
    "print(\"Old list:\", old_list)\n",
    "print(\"New list:\", new_list)"
   ]
  },
  {
   "cell_type": "markdown",
   "id": "fourth-usage",
   "metadata": {},
   "source": [
    "In the above program, we made changes to old_list i.e old_list[1][1] = 'AA'. Both sublists of old_list and new_list at index [1][1] were modified. This is because, both lists share the reference of same nested objects."
   ]
  },
  {
   "cell_type": "markdown",
   "id": "fitting-treaty",
   "metadata": {},
   "source": [
    "copy.deepcopy()"
   ]
  },
  {
   "cell_type": "code",
   "execution_count": 144,
   "id": "driving-basketball",
   "metadata": {},
   "outputs": [
    {
     "name": "stdout",
     "output_type": "stream",
     "text": [
      "Old list: [[1, 1, 1], [2, 2, 2], [3, 3, 3]]\n",
      "New list: [[1, 1, 1], [2, 2, 2], [3, 3, 3]]\n"
     ]
    }
   ],
   "source": [
    "# Example 5: Copying a list using deepcopy()\n",
    "import copy\n",
    "\n",
    "old_list = [[1, 1, 1], [2, 2, 2], [3, 3, 3]]\n",
    "new_list = copy.deepcopy(old_list)\n",
    "\n",
    "print(\"Old list:\", old_list)\n",
    "print(\"New list:\", new_list)"
   ]
  },
  {
   "cell_type": "markdown",
   "id": "inner-parliament",
   "metadata": {},
   "source": [
    "In the above program, we use deepcopy() function to create copy which looks similar.\n",
    "\n",
    "However, if you make changes to any nested objects in original object old_list, you’ll see no changes to the copy new_list."
   ]
  },
  {
   "cell_type": "code",
   "execution_count": 145,
   "id": "respective-toilet",
   "metadata": {},
   "outputs": [],
   "source": [
    "# Example 6: Adding a new nested object in the list using Deep copy"
   ]
  },
  {
   "cell_type": "code",
   "execution_count": 146,
   "id": "incorporated-tuner",
   "metadata": {},
   "outputs": [
    {
     "name": "stdout",
     "output_type": "stream",
     "text": [
      "Old list: [[1, 1, 1], ['BB', 2, 2], [3, 3, 3]]\n",
      "New list: [[1, 1, 1], [2, 2, 2], [3, 3, 3]]\n"
     ]
    }
   ],
   "source": [
    "import copy\n",
    "\n",
    "old_list = [[1, 1, 1], [2, 2, 2], [3, 3, 3]]\n",
    "new_list = copy.deepcopy(old_list)\n",
    "\n",
    "old_list[1][0] = 'BB'\n",
    "\n",
    "print(\"Old list:\", old_list)\n",
    "print(\"New list:\", new_list)"
   ]
  },
  {
   "cell_type": "markdown",
   "id": "abstract-catholic",
   "metadata": {},
   "source": [
    "In the above program, when we assign a new value to old_list, we can see only the old_list is modified. This means, both the old_list and the new_list are independent. This is because the old_list was recursively copied, which is true for all its nested objects."
   ]
  },
  {
   "cell_type": "code",
   "execution_count": null,
   "id": "stunning-airfare",
   "metadata": {},
   "outputs": [],
   "source": []
  }
 ],
 "metadata": {
  "kernelspec": {
   "display_name": "Python 3",
   "language": "python",
   "name": "python3"
  },
  "language_info": {
   "codemirror_mode": {
    "name": "ipython",
    "version": 3
   },
   "file_extension": ".py",
   "mimetype": "text/x-python",
   "name": "python",
   "nbconvert_exporter": "python",
   "pygments_lexer": "ipython3",
   "version": "3.8.6"
  }
 },
 "nbformat": 4,
 "nbformat_minor": 5
}
