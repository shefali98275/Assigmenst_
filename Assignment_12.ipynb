{
 "cells": [
  {
   "cell_type": "markdown",
   "id": "thousand-grenada",
   "metadata": {},
   "source": [
    "# 1. In what modes should the PdfFileReader() and PdfFileWriter() File objects will be opened?"
   ]
  },
  {
   "cell_type": "markdown",
   "id": "continuing-memphis",
   "metadata": {},
   "source": [
    "PdfFileReader() used to perform all the operations related to reading a file"
   ]
  },
  {
   "cell_type": "code",
   "execution_count": null,
   "id": "american-peter",
   "metadata": {},
   "outputs": [],
   "source": [
    "# here we need to pass 'rb' as a mode for reading any pdf file"
   ]
  },
  {
   "cell_type": "code",
   "execution_count": 3,
   "id": "eleven-biotechnology",
   "metadata": {},
   "outputs": [],
   "source": [
    "pdfObj = open(r\"D:\\business_signal_08072022\\ai_notebook\\python-durgapdf_compress (1).pdf\", 'rb')"
   ]
  },
  {
   "cell_type": "code",
   "execution_count": 6,
   "id": "heated-quality",
   "metadata": {},
   "outputs": [],
   "source": [
    "import PyPDF2"
   ]
  },
  {
   "cell_type": "code",
   "execution_count": 10,
   "id": "imposed-purse",
   "metadata": {},
   "outputs": [
    {
     "data": {
      "text/plain": [
       "<PyPDF2._reader.PdfFileReader at 0x19070f69820>"
      ]
     },
     "execution_count": 10,
     "metadata": {},
     "output_type": "execute_result"
    }
   ],
   "source": [
    "PyPDF2.PdfFileReader(pdfObj, \n",
    "    strict=True\n",
    "    )"
   ]
  },
  {
   "cell_type": "markdown",
   "id": "dominant-librarian",
   "metadata": {},
   "source": [
    "PdfFileWriter is used to perform write operations on pdf."
   ]
  },
  {
   "cell_type": "code",
   "execution_count": 14,
   "id": "artificial-probability",
   "metadata": {},
   "outputs": [
    {
     "data": {
      "text/plain": [
       "{'/Type': '/Page',\n",
       " '/Parent': {'/Type': '/Pages',\n",
       "  '/Count': 2,\n",
       "  '/Kids': [IndirectObject(3, 0, 1719885130960),\n",
       "   IndirectObject(4, 0, 1719885130960)]},\n",
       " '/Resources': {},\n",
       " '/MediaBox': RectangleObject([0, 0, 100, 500])}"
      ]
     },
     "execution_count": 14,
     "metadata": {},
     "output_type": "execute_result"
    }
   ],
   "source": [
    "file = PyPDF2.PdfFileWriter()\n",
    "\n",
    "file.addBlankPage(\n",
    "    width= 200,\n",
    "    height= 200\n",
    ")\n",
    "file.addBlankPage(\n",
    "    width=100,\n",
    "    height=500\n",
    ")"
   ]
  },
  {
   "cell_type": "code",
   "execution_count": 15,
   "id": "favorite-storage",
   "metadata": {},
   "outputs": [],
   "source": [
    "# here we pass 'wb' as a mode for writing anything in pdf"
   ]
  },
  {
   "cell_type": "code",
   "execution_count": 12,
   "id": "mexican-pension",
   "metadata": {},
   "outputs": [
    {
     "data": {
      "text/plain": [
       "(False, <_io.BufferedWriter name='blankPdf.pdf'>)"
      ]
     },
     "execution_count": 12,
     "metadata": {},
     "output_type": "execute_result"
    }
   ],
   "source": [
    "output = open('blankPdf.pdf', 'wb')\n",
    "file.write(output)"
   ]
  },
  {
   "cell_type": "markdown",
   "id": "measured-trouble",
   "metadata": {},
   "source": [
    "# 2. From a PdfFileReader object, how do you get a Page object for page 5?"
   ]
  },
  {
   "cell_type": "code",
   "execution_count": 17,
   "id": "greek-choice",
   "metadata": {},
   "outputs": [],
   "source": [
    "pdfObj = open(r\"D:\\business_signal_08072022\\ai_notebook\\python-durgapdf_compress (1).pdf\", 'rb')\n",
    "reader = PyPDF2.PdfFileReader(pdfObj, \n",
    "    strict=True\n",
    "    )\n"
   ]
  },
  {
   "cell_type": "code",
   "execution_count": 23,
   "id": "forbidden-graphics",
   "metadata": {},
   "outputs": [],
   "source": [
    "page_5 = reader.getPage(5)"
   ]
  },
  {
   "cell_type": "markdown",
   "id": "mechanical-geology",
   "metadata": {},
   "source": [
    "# 3. What PdfFileReader variable stores the number of pages in the PDF document?"
   ]
  },
  {
   "cell_type": "code",
   "execution_count": 25,
   "id": "voluntary-empire",
   "metadata": {},
   "outputs": [],
   "source": [
    "pages_count = reader.numPages"
   ]
  },
  {
   "cell_type": "code",
   "execution_count": 26,
   "id": "sunset-detector",
   "metadata": {},
   "outputs": [
    {
     "data": {
      "text/plain": [
       "365"
      ]
     },
     "execution_count": 26,
     "metadata": {},
     "output_type": "execute_result"
    }
   ],
   "source": [
    "pages_count"
   ]
  },
  {
   "cell_type": "markdown",
   "id": "faced-snake",
   "metadata": {},
   "source": [
    "# 4. If a PdfFileReader object’s PDF is encrypted with the password swordfish, what must you do before you can obtain Page objects from it?"
   ]
  },
  {
   "cell_type": "code",
   "execution_count": 28,
   "id": "touched-bulgarian",
   "metadata": {},
   "outputs": [],
   "source": [
    " reader.decrypt(\"swordfish\")"
   ]
  },
  {
   "cell_type": "markdown",
   "id": "worst-trunk",
   "metadata": {},
   "source": [
    "# 5. What methods do you use to rotate a page?"
   ]
  },
  {
   "cell_type": "markdown",
   "id": "homeless-sigma",
   "metadata": {},
   "source": [
    "page.rotateCounterClockwise(270) : Here we are rotating the pdf file in anticlockwise direction at an angle of 270"
   ]
  },
  {
   "cell_type": "markdown",
   "id": "assigned-breeding",
   "metadata": {},
   "source": [
    "page.rotateClockwise(270): Here we are rotating the pdf file in clockwise direction at an angle of 270"
   ]
  },
  {
   "cell_type": "markdown",
   "id": "differential-richmond",
   "metadata": {},
   "source": [
    "# 6. What is the difference between a Run object and a Paragraph object?"
   ]
  },
  {
   "cell_type": "code",
   "execution_count": 32,
   "id": "structural-wagon",
   "metadata": {},
   "outputs": [],
   "source": [
    "import os\n",
    "import re\n",
    "import docx  "
   ]
  },
  {
   "cell_type": "code",
   "execution_count": 38,
   "id": "dense-thesaurus",
   "metadata": {},
   "outputs": [
    {
     "data": {
      "text/plain": [
       "8"
      ]
     },
     "execution_count": 38,
     "metadata": {},
     "output_type": "execute_result"
    }
   ],
   "source": [
    "doc = docx.Document(r\"C:\\Users\\techs\\Documents\\Decision tree is an rule based algorithm.docx\")  #  Document object\n",
    "len(doc.paragraphs)  #  The length of the list of Paragraph objects"
   ]
  },
  {
   "cell_type": "code",
   "execution_count": 39,
   "id": "varying-danger",
   "metadata": {},
   "outputs": [
    {
     "name": "stdout",
     "output_type": "stream",
     "text": [
      "Para.1 Run0:  Decision tree is an rule based \n",
      "Para.1 Run1:  algorithm,to\n",
      "Para.1 Run2:   find root node in tree we used entropy and \n",
      "Para.1 Run3:  gini\n",
      "Para.1 Run4:   to get that column who provide relevant information and also we can easily predict target….\n",
      "Para.2 Run1:  Max_depth\n",
      "Para.2 Run2:   =\n",
      "Para.2 Run3:  the first parameter to tune in decision tree is \n",
      "Para.2 Run4:  max_depth\n",
      "Para.2 Run5:  .\n",
      "Para.3 Run2:  It \n",
      "Para.3 Run3:  indicate\n",
      "Para.3 Run4:   the how deep decision tree can be.\n",
      "Para.4 Run3:  The deeper the \n",
      "Para.4 Run4:  tree,the\n",
      "Para.4 Run5:   more splits it has & it captures more information about the data.\n",
      "Para.5 Run4:  However,in\n",
      "Para.5 Run5:   general a decision tree overfits for large depth values. The tree perfectly predict all the \n",
      "Para.5 Run6:  data,however\n",
      "Para.5 Run7:  ,it\n",
      "Para.5 Run8:   fails to generalize the finding new data.\n",
      "Para.7 Run6:  Bagging=\n"
     ]
    }
   ],
   "source": [
    "for i, para in enumerate(doc.paragraphs):\n",
    "    for j, run in enumerate(para.runs):\n",
    "        print(f'Para.{i+1} Run{j+i}:  ', run.text, sep='')"
   ]
  },
  {
   "cell_type": "markdown",
   "id": "furnished-religion",
   "metadata": {},
   "source": [
    "Paragraph object has a run attribute that is a list of Run objects ,while Run objects have a text attribute, containing just the text in that particular run."
   ]
  },
  {
   "cell_type": "markdown",
   "id": "color-steel",
   "metadata": {},
   "source": [
    "# 7. How do you obtain a list of Paragraph objects for a Document object that’s stored in a variable named doc?"
   ]
  },
  {
   "cell_type": "code",
   "execution_count": 47,
   "id": "regulated-cassette",
   "metadata": {},
   "outputs": [
    {
     "data": {
      "text/plain": [
       "[<docx.text.paragraph.Paragraph at 0x1907352e760>,\n",
       " <docx.text.paragraph.Paragraph at 0x1907352e460>,\n",
       " <docx.text.paragraph.Paragraph at 0x1907352ef10>,\n",
       " <docx.text.paragraph.Paragraph at 0x1907352e520>,\n",
       " <docx.text.paragraph.Paragraph at 0x1907352e2b0>,\n",
       " <docx.text.paragraph.Paragraph at 0x1907352ec10>,\n",
       " <docx.text.paragraph.Paragraph at 0x1907352e8b0>,\n",
       " <docx.text.paragraph.Paragraph at 0x1907352edc0>]"
      ]
     },
     "execution_count": 47,
     "metadata": {},
     "output_type": "execute_result"
    }
   ],
   "source": [
    "doc.paragraphs"
   ]
  },
  {
   "cell_type": "markdown",
   "id": "assigned-bobby",
   "metadata": {},
   "source": [
    "# 8. What type of object has bold, underline, italic, strike, and outline variables?"
   ]
  },
  {
   "cell_type": "markdown",
   "id": "answering-badge",
   "metadata": {},
   "source": [
    "A run object has these variables"
   ]
  },
  {
   "cell_type": "markdown",
   "id": "narrow-village",
   "metadata": {},
   "source": [
    "# 9. What is the difference between False, True, and None for the bold variable?"
   ]
  },
  {
   "cell_type": "markdown",
   "id": "brilliant-cattle",
   "metadata": {},
   "source": [
    "True make run object always bold\n",
    "    \n",
    "False make run object always not bold\n",
    "\n",
    "None will make the Run object just use the style's bold setting."
   ]
  },
  {
   "cell_type": "markdown",
   "id": "statutory-indie",
   "metadata": {},
   "source": [
    "# 10. How do you create a Document object for a new Word document?"
   ]
  },
  {
   "cell_type": "markdown",
   "id": "fuzzy-commissioner",
   "metadata": {},
   "source": [
    "docx.Document()"
   ]
  },
  {
   "cell_type": "markdown",
   "id": "exempt-reconstruction",
   "metadata": {},
   "source": [
    "# 11. How do you add a paragraph with the text &#39;Hello, there!&#39; to a Document object stored in a variable named doc?"
   ]
  },
  {
   "cell_type": "code",
   "execution_count": 54,
   "id": "female-sterling",
   "metadata": {},
   "outputs": [
    {
     "data": {
      "text/plain": [
       "<docx.text.paragraph.Paragraph at 0x190732bd370>"
      ]
     },
     "execution_count": 54,
     "metadata": {},
     "output_type": "execute_result"
    }
   ],
   "source": [
    "import docx\n",
    "doc= docx.Document()\n",
    "doc.add_paragraph(\"Hello, there !\")"
   ]
  },
  {
   "cell_type": "code",
   "execution_count": 57,
   "id": "covered-nutrition",
   "metadata": {},
   "outputs": [
    {
     "data": {
      "text/plain": [
       "'Hello, there !'"
      ]
     },
     "execution_count": 57,
     "metadata": {},
     "output_type": "execute_result"
    }
   ],
   "source": [
    "doc.paragraphs[0].runs[0].text"
   ]
  },
  {
   "cell_type": "markdown",
   "id": "limiting-matthew",
   "metadata": {},
   "source": [
    "# 12. What integers represent the levels of headings available in Word documents?"
   ]
  },
  {
   "cell_type": "markdown",
   "id": "serious-season",
   "metadata": {},
   "source": [
    "Heading level ranges from 0-9"
   ]
  },
  {
   "cell_type": "code",
   "execution_count": null,
   "id": "modified-kelly",
   "metadata": {},
   "outputs": [],
   "source": []
  }
 ],
 "metadata": {
  "kernelspec": {
   "display_name": "Python 3",
   "language": "python",
   "name": "python3"
  },
  "language_info": {
   "codemirror_mode": {
    "name": "ipython",
    "version": 3
   },
   "file_extension": ".py",
   "mimetype": "text/x-python",
   "name": "python",
   "nbconvert_exporter": "python",
   "pygments_lexer": "ipython3",
   "version": "3.8.6"
  }
 },
 "nbformat": 4,
 "nbformat_minor": 5
}
