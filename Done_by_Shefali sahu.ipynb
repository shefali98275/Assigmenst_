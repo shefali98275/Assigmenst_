{
 "cells": [
  {
   "cell_type": "code",
   "execution_count": 1,
   "id": "meaning-reserve",
   "metadata": {},
   "outputs": [],
   "source": [
    "s = \"this is My First Python programming class and i am learNING python string and its function\""
   ]
  },
  {
   "cell_type": "markdown",
   "id": "technical-conjunction",
   "metadata": {},
   "source": [
    "## Question-1 - Try to extract data from index one to index 300 with a jump of 3 "
   ]
  },
  {
   "cell_type": "code",
   "execution_count": 3,
   "id": "continued-investigation",
   "metadata": {},
   "outputs": [
    {
     "data": {
      "text/plain": [
       "'h   r tnrrmglsnimeNGyosi dtfco'"
      ]
     },
     "execution_count": 3,
     "metadata": {},
     "output_type": "execute_result"
    }
   ],
   "source": [
    "s[1:300:3]"
   ]
  },
  {
   "cell_type": "markdown",
   "id": "continental-wound",
   "metadata": {},
   "source": [
    "#Answer - 'h   r tnrrmglsnimeNGyosi dtfco'"
   ]
  },
  {
   "cell_type": "markdown",
   "id": "beginning-equality",
   "metadata": {},
   "source": [
    "## Question-2 - Try to reverse a string without using reverse function "
   ]
  },
  {
   "cell_type": "code",
   "execution_count": 6,
   "id": "loving-elite",
   "metadata": {},
   "outputs": [
    {
     "data": {
      "text/plain": [
       "'noitcnuf sti dna gnirts nohtyp GNINrael ma i dna ssalc gnimmargorp nohtyP tsriF yM si siht'"
      ]
     },
     "execution_count": 6,
     "metadata": {},
     "output_type": "execute_result"
    }
   ],
   "source": [
    "s[::-1]"
   ]
  },
  {
   "cell_type": "markdown",
   "id": "rolled-climate",
   "metadata": {},
   "source": [
    "##Answer - 'noitcnuf sti dna gnirts nohtyp GNINrael ma i dna ssalc gnimmargorp nohtyP tsriF yM si siht'"
   ]
  },
  {
   "cell_type": "markdown",
   "id": "least-performance",
   "metadata": {},
   "source": [
    "## Question-3 - Try to split a string after conversion of entire string in uppercase "
   ]
  },
  {
   "cell_type": "code",
   "execution_count": 7,
   "id": "union-sellers",
   "metadata": {},
   "outputs": [
    {
     "data": {
      "text/plain": [
       "['THIS',\n",
       " 'IS',\n",
       " 'MY',\n",
       " 'FIRST',\n",
       " 'PYTHON',\n",
       " 'PROGRAMMING',\n",
       " 'CLASS',\n",
       " 'AND',\n",
       " 'I',\n",
       " 'AM',\n",
       " 'LEARNING',\n",
       " 'PYTHON',\n",
       " 'STRING',\n",
       " 'AND',\n",
       " 'ITS',\n",
       " 'FUNCTION']"
      ]
     },
     "execution_count": 7,
     "metadata": {},
     "output_type": "execute_result"
    }
   ],
   "source": [
    "s1 = s.upper()\n",
    "s1.split()"
   ]
  },
  {
   "cell_type": "markdown",
   "id": "piano-dining",
   "metadata": {},
   "source": [
    "##Answer - ['THIS',\n",
    " 'IS',\n",
    " 'MY',\n",
    " 'FIRST',\n",
    " 'PYTHON',\n",
    " 'PROGRAMMING',\n",
    " 'CLASS',\n",
    " 'AND',\n",
    " 'I',\n",
    " 'AM',\n",
    " 'LEARNING',\n",
    " 'PYTHON',\n",
    " 'STRING',\n",
    " 'AND',\n",
    " 'ITS',\n",
    " 'FUNCTION']"
   ]
  },
  {
   "cell_type": "markdown",
   "id": "general-surname",
   "metadata": {},
   "source": [
    "## Question- 4 -  try to convert the whole string into lower case"
   ]
  },
  {
   "cell_type": "code",
   "execution_count": 8,
   "id": "preceding-ultimate",
   "metadata": {},
   "outputs": [
    {
     "data": {
      "text/plain": [
       "'this is my first python programming class and i am learning python string and its function'"
      ]
     },
     "execution_count": 8,
     "metadata": {},
     "output_type": "execute_result"
    }
   ],
   "source": [
    "s2 = s.lower()\n",
    "s2"
   ]
  },
  {
   "cell_type": "markdown",
   "id": "valuable-accessory",
   "metadata": {},
   "source": [
    "##Answer - 'this is my first python programming class and i am learning python string and its function'"
   ]
  },
  {
   "cell_type": "markdown",
   "id": "freelance-racing",
   "metadata": {},
   "source": [
    "## Question-5 - Try to capitalize the whole string"
   ]
  },
  {
   "cell_type": "code",
   "execution_count": 11,
   "id": "exciting-judges",
   "metadata": {},
   "outputs": [
    {
     "data": {
      "text/plain": [
       "'This is my first python programming class and i am learning python string and its function'"
      ]
     },
     "execution_count": 11,
     "metadata": {},
     "output_type": "execute_result"
    }
   ],
   "source": [
    "s3 = s.capitalize()\n",
    "s3"
   ]
  },
  {
   "cell_type": "markdown",
   "id": "worldwide-queensland",
   "metadata": {},
   "source": [
    "##Answer - 'This is my first python programming class and i am learning python string and its function'"
   ]
  },
  {
   "cell_type": "markdown",
   "id": "assured-little",
   "metadata": {},
   "source": [
    "## Question-6 Write a diference between isalnum() and isalpha()"
   ]
  },
  {
   "cell_type": "markdown",
   "id": "parallel-finnish",
   "metadata": {},
   "source": [
    "## ANSWER"
   ]
  },
  {
   "cell_type": "markdown",
   "id": "veterinary-benchmark",
   "metadata": {},
   "source": [
    "##isalpha() method returns true if all characters of a string are only alphabets (between ‘A’ to ‘Z’ and between ‘a’ to ‘z’). If there is any non alphabet character in the string, method returns false."
   ]
  },
  {
   "cell_type": "code",
   "execution_count": 17,
   "id": "assigned-intellectual",
   "metadata": {},
   "outputs": [
    {
     "data": {
      "text/plain": [
       "False"
      ]
     },
     "execution_count": 17,
     "metadata": {},
     "output_type": "execute_result"
    }
   ],
   "source": [
    "s.isalpha()"
   ]
  },
  {
   "cell_type": "code",
   "execution_count": 18,
   "id": "infinite-virgin",
   "metadata": {},
   "outputs": [
    {
     "data": {
      "text/plain": [
       "True"
      ]
     },
     "execution_count": 18,
     "metadata": {},
     "output_type": "execute_result"
    }
   ],
   "source": [
    "\"shefali\".isalpha()"
   ]
  },
  {
   "cell_type": "markdown",
   "id": "outdoor-index",
   "metadata": {},
   "source": [
    "##isalnum() method returns true if all characters of a string are either alphabets (between ‘A’ to ‘Z’ and between ‘a’ to ‘z’) or numbers (0 to 9) or both, otherwise method returns false"
   ]
  },
  {
   "cell_type": "code",
   "execution_count": 19,
   "id": "local-kazakhstan",
   "metadata": {},
   "outputs": [
    {
     "data": {
      "text/plain": [
       "False"
      ]
     },
     "execution_count": 19,
     "metadata": {},
     "output_type": "execute_result"
    }
   ],
   "source": [
    "s.isalnum()"
   ]
  },
  {
   "cell_type": "code",
   "execution_count": 20,
   "id": "sixth-mumbai",
   "metadata": {},
   "outputs": [
    {
     "data": {
      "text/plain": [
       "True"
      ]
     },
     "execution_count": 20,
     "metadata": {},
     "output_type": "execute_result"
    }
   ],
   "source": [
    "\"sahu\".isalnum()"
   ]
  },
  {
   "cell_type": "code",
   "execution_count": 21,
   "id": "revised-baker",
   "metadata": {},
   "outputs": [
    {
     "data": {
      "text/plain": [
       "True"
      ]
     },
     "execution_count": 21,
     "metadata": {},
     "output_type": "execute_result"
    }
   ],
   "source": [
    "\"1234\".isalnum()"
   ]
  },
  {
   "cell_type": "code",
   "execution_count": 23,
   "id": "sharing-fleece",
   "metadata": {},
   "outputs": [
    {
     "data": {
      "text/plain": [
       "False"
      ]
     },
     "execution_count": 23,
     "metadata": {},
     "output_type": "execute_result"
    }
   ],
   "source": [
    "\"shefali sahu\".isalnum() #space contain thats why it is coming"
   ]
  },
  {
   "cell_type": "markdown",
   "id": "thorough-classroom",
   "metadata": {},
   "source": [
    "## Question-7 - Try to give an example of expand tab"
   ]
  },
  {
   "cell_type": "code",
   "execution_count": 24,
   "id": "verified-commander",
   "metadata": {},
   "outputs": [
    {
     "data": {
      "text/plain": [
       "'xyz     12345   abc'"
      ]
     },
     "execution_count": 24,
     "metadata": {},
     "output_type": "execute_result"
    }
   ],
   "source": [
    "s3 = 'xyz\\t12345\\tabc'\n",
    "result = s3.expandtabs()\n",
    "result"
   ]
  },
  {
   "cell_type": "markdown",
   "id": "cordless-louisiana",
   "metadata": {},
   "source": [
    "##Answer - 'xyz     12345   abc'"
   ]
  },
  {
   "cell_type": "markdown",
   "id": "welsh-piano",
   "metadata": {},
   "source": [
    "## Question-8 - Give an example of strip , lstrip and rstrip "
   ]
  },
  {
   "cell_type": "markdown",
   "id": "fiscal-gothic",
   "metadata": {},
   "source": [
    "##Answer - "
   ]
  },
  {
   "cell_type": "code",
   "execution_count": 25,
   "id": "induced-outdoors",
   "metadata": {},
   "outputs": [
    {
     "data": {
      "text/plain": [
       "'shefali'"
      ]
     },
     "execution_count": 25,
     "metadata": {},
     "output_type": "execute_result"
    }
   ],
   "source": [
    "string = \" shefali \" #extra space at both the side\n",
    "string.strip()"
   ]
  },
  {
   "cell_type": "code",
   "execution_count": 26,
   "id": "artistic-latino",
   "metadata": {},
   "outputs": [
    {
     "data": {
      "text/plain": [
       "'shefali'"
      ]
     },
     "execution_count": 26,
     "metadata": {},
     "output_type": "execute_result"
    }
   ],
   "source": [
    "string = \"shefali \" #extra space at right side\n",
    "string.rstrip()"
   ]
  },
  {
   "cell_type": "code",
   "execution_count": 27,
   "id": "wooden-firmware",
   "metadata": {},
   "outputs": [
    {
     "data": {
      "text/plain": [
       "'shefali'"
      ]
     },
     "execution_count": 27,
     "metadata": {},
     "output_type": "execute_result"
    }
   ],
   "source": [
    "string = \" shefali\" #extra space at left side\n",
    "string.lstrip()"
   ]
  },
  {
   "cell_type": "markdown",
   "id": "precise-meaning",
   "metadata": {},
   "source": [
    "## Question-9 - Replace a string charecter by another charector by taking your own example "
   ]
  },
  {
   "cell_type": "markdown",
   "id": "compressed-honolulu",
   "metadata": {},
   "source": [
    "##Answer-"
   ]
  },
  {
   "cell_type": "code",
   "execution_count": 1,
   "id": "alpine-georgia",
   "metadata": {},
   "outputs": [],
   "source": [
    "string = 'pythonhxamples'\n",
    "position = 6\n",
    "new_character = 'e'\n",
    "temp = list(string)\n",
    "temp[position] = new_character\n",
    "string = \"\".join(temp)"
   ]
  },
  {
   "cell_type": "code",
   "execution_count": 6,
   "id": "painted-score",
   "metadata": {},
   "outputs": [
    {
     "data": {
      "text/plain": [
       "'pythonexamples'"
      ]
     },
     "execution_count": 6,
     "metadata": {},
     "output_type": "execute_result"
    }
   ],
   "source": [
    "string"
   ]
  },
  {
   "cell_type": "markdown",
   "id": "alien-proof",
   "metadata": {},
   "source": [
    "## Question - 10 - Try  to give a defination of string center function with and exmple"
   ]
  },
  {
   "cell_type": "markdown",
   "id": "confirmed-party",
   "metadata": {},
   "source": [
    "##Answer -"
   ]
  },
  {
   "cell_type": "markdown",
   "id": "fresh-hierarchy",
   "metadata": {},
   "source": [
    "center() method-is an inbuilt function that is used to align a string to the center by filling paddings to the left and right of the string."
   ]
  },
  {
   "cell_type": "code",
   "execution_count": 4,
   "id": "eligible-island",
   "metadata": {},
   "outputs": [
    {
     "data": {
      "text/plain": [
       "'                                                                                                                                                                                                             this is My First Python programming class and i am learNING python string and its function                                                                                                                                                                                                             '"
      ]
     },
     "execution_count": 4,
     "metadata": {},
     "output_type": "execute_result"
    }
   ],
   "source": [
    "s.center(500)"
   ]
  },
  {
   "cell_type": "markdown",
   "id": "temporal-compromise",
   "metadata": {},
   "source": [
    "## Question - 11 - Write your own definition of compiler and interpretor without copy paste form internet in your own language"
   ]
  },
  {
   "cell_type": "markdown",
   "id": "normal-struggle",
   "metadata": {},
   "source": [
    "##Answer"
   ]
  },
  {
   "cell_type": "markdown",
   "id": "responsible-birmingham",
   "metadata": {},
   "source": [
    "##Interpreter - An interpreter is a kind of program that executes other programs. When you write Python programs , it converts source code written by the developer into intermediate language which is again translated into the native language / machine language that is executed"
   ]
  },
  {
   "cell_type": "markdown",
   "id": "national-samuel",
   "metadata": {},
   "source": [
    "##Compiler - Python compile() function takes source code as input and returns a code object which is ready to be executed and which can later be executed by the exec() function. "
   ]
  },
  {
   "cell_type": "markdown",
   "id": "manual-cable",
   "metadata": {},
   "source": [
    "## Question - 12 - Python is a interpreted of compiled language give a clear ans with your understanding "
   ]
  },
  {
   "cell_type": "markdown",
   "id": "optimum-garbage",
   "metadata": {},
   "source": [
    "##Answer"
   ]
  },
  {
   "cell_type": "markdown",
   "id": "silver-thousand",
   "metadata": {},
   "source": [
    "it's interpreted.\n",
    "Python is an interpreted, object-oriented, high-level programming language...\n",
    "Since there is no compilation step ...\n",
    "The Python interpreter and the extensive standard library are available...\n",
    "Instead, when the interpreter discovers an error, it raises an exception. When the program doesn't catch the exception, the interpreter prints a stack trace."
   ]
  },
  {
   "cell_type": "markdown",
   "id": "irish-marble",
   "metadata": {},
   "source": [
    "## Question -13 - Try to write a usecase of python with your understanding "
   ]
  },
  {
   "cell_type": "markdown",
   "id": "velvet-colon",
   "metadata": {},
   "source": [
    "##Web application development,\n",
    "Data Science,\n",
    "Artificial Intelligence,\n",
    "Game development,\n",
    "Internet of Things,\n",
    "Desktop GUI"
   ]
  },
  {
   "cell_type": "markdown",
   "id": "consolidated-department",
   "metadata": {},
   "source": [
    "## DONE BY SHEFALI SAHU ....THANKS"
   ]
  },
  {
   "cell_type": "code",
   "execution_count": null,
   "id": "varying-setting",
   "metadata": {},
   "outputs": [],
   "source": []
  }
 ],
 "metadata": {
  "kernelspec": {
   "display_name": "Python 3",
   "language": "python",
   "name": "python3"
  },
  "language_info": {
   "codemirror_mode": {
    "name": "ipython",
    "version": 3
   },
   "file_extension": ".py",
   "mimetype": "text/x-python",
   "name": "python",
   "nbconvert_exporter": "python",
   "pygments_lexer": "ipython3",
   "version": "3.8.6"
  }
 },
 "nbformat": 4,
 "nbformat_minor": 5
}
